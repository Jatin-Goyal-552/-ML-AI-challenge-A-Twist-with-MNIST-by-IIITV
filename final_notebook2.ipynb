{
 "cells": [
  {
   "cell_type": "code",
   "execution_count": 1,
   "id": "e51cd853",
   "metadata": {
    "_cell_guid": "b1076dfc-b9ad-4769-8c92-a6c4dae69d19",
    "_uuid": "8f2839f25d086af736a60e9eeb907d3b93b6e0e5",
    "execution": {
     "iopub.execute_input": "2022-04-24T13:07:33.911491Z",
     "iopub.status.busy": "2022-04-24T13:07:33.910697Z",
     "iopub.status.idle": "2022-04-24T13:07:33.932334Z",
     "shell.execute_reply": "2022-04-24T13:07:33.930553Z"
    },
    "papermill": {
     "duration": 0.091283,
     "end_time": "2022-04-24T13:07:33.934688",
     "exception": false,
     "start_time": "2022-04-24T13:07:33.843405",
     "status": "completed"
    },
    "tags": []
   },
   "outputs": [
    {
     "name": "stdout",
     "output_type": "stream",
     "text": [
      "/kaggle/input/mnsit-10-19/test_data.csv\n",
      "/kaggle/input/mnsit-10-19/train.csv\n",
      "/kaggle/input/mnsit-10-19/submission_format.csv\n"
     ]
    }
   ],
   "source": [
    "import numpy as np\n",
    "import pandas as pd \n",
    "\n",
    "import os\n",
    "for dirname, _, filenames in os.walk('/kaggle/input'):\n",
    "    for filename in filenames:\n",
    "        print(os.path.join(dirname, filename))"
   ]
  },
  {
   "cell_type": "markdown",
   "id": "363f09bc",
   "metadata": {
    "papermill": {
     "duration": 0.06141,
     "end_time": "2022-04-24T13:07:34.060623",
     "exception": false,
     "start_time": "2022-04-24T13:07:33.999213",
     "status": "completed"
    },
    "tags": []
   },
   "source": [
    " # **Importing all libraries**"
   ]
  },
  {
   "cell_type": "code",
   "execution_count": 2,
   "id": "2400ce16",
   "metadata": {
    "execution": {
     "iopub.execute_input": "2022-04-24T13:07:34.186559Z",
     "iopub.status.busy": "2022-04-24T13:07:34.186230Z",
     "iopub.status.idle": "2022-04-24T13:07:40.849857Z",
     "shell.execute_reply": "2022-04-24T13:07:40.848826Z"
    },
    "papermill": {
     "duration": 6.730124,
     "end_time": "2022-04-24T13:07:40.852149",
     "exception": false,
     "start_time": "2022-04-24T13:07:34.122025",
     "status": "completed"
    },
    "tags": []
   },
   "outputs": [],
   "source": [
    "import pandas as pd\n",
    "import numpy as np\n",
    "import matplotlib.pyplot as plt\n",
    "import random\n",
    "import os\n",
    "from sklearn.metrics import confusion_matrix\n",
    "import itertools \n",
    "\n",
    "from keras.utils.np_utils import to_categorical #Converting to one hot encoding \n",
    "from keras.models import Sequential\n",
    "from keras.layers import Dense,Dropout,Flatten,Conv2D,MaxPool2D\n",
    "from tensorflow.keras.optimizers import RMSprop, Adam\n",
    "from keras.preprocessing.image import ImageDataGenerator\n",
    "from keras.callbacks import ReduceLROnPlateau\n",
    "from tensorflow.keras.layers import BatchNormalization\n",
    "from keras.models import Sequential\n",
    "from keras.layers import Conv2D,MaxPooling2D,Activation,Dropout,Flatten,Dense\n",
    "from sklearn.model_selection import train_test_split \n",
    "from sklearn.metrics import confusion_matrix\n",
    "from glob import glob\n",
    "import tensorflow as tf\n",
    "from keras.utils.np_utils import to_categorical #Converting to one hot encoding \n",
    "from keras.preprocessing.image import ImageDataGenerator\n",
    "from keras.callbacks import ReduceLROnPlateau\n"
   ]
  },
  {
   "cell_type": "markdown",
   "id": "13e1d8af",
   "metadata": {
    "papermill": {
     "duration": 0.058423,
     "end_time": "2022-04-24T13:07:40.970613",
     "exception": false,
     "start_time": "2022-04-24T13:07:40.912190",
     "status": "completed"
    },
    "tags": []
   },
   "source": [
    "# **Setting random seed so that result are reproducible**"
   ]
  },
  {
   "cell_type": "code",
   "execution_count": 3,
   "id": "6c9adc05",
   "metadata": {
    "execution": {
     "iopub.execute_input": "2022-04-24T13:07:41.092225Z",
     "iopub.status.busy": "2022-04-24T13:07:41.091934Z",
     "iopub.status.idle": "2022-04-24T13:07:41.097861Z",
     "shell.execute_reply": "2022-04-24T13:07:41.096840Z"
    },
    "papermill": {
     "duration": 0.069007,
     "end_time": "2022-04-24T13:07:41.100186",
     "exception": false,
     "start_time": "2022-04-24T13:07:41.031179",
     "status": "completed"
    },
    "tags": []
   },
   "outputs": [],
   "source": [
    "seed = 27\n",
    "os.environ['PYTHONHASHSEED'] = str(seed)\n",
    "np.random.seed(seed)\n",
    "random.seed(seed)\n",
    "tf.random.set_seed(seed)"
   ]
  },
  {
   "cell_type": "markdown",
   "id": "5c8b66b2",
   "metadata": {
    "papermill": {
     "duration": 0.058946,
     "end_time": "2022-04-24T13:07:41.219194",
     "exception": false,
     "start_time": "2022-04-24T13:07:41.160248",
     "status": "completed"
    },
    "tags": []
   },
   "source": [
    "# **Importing train data**"
   ]
  },
  {
   "cell_type": "code",
   "execution_count": 4,
   "id": "d5175af3",
   "metadata": {
    "execution": {
     "iopub.execute_input": "2022-04-24T13:07:41.340644Z",
     "iopub.status.busy": "2022-04-24T13:07:41.340361Z",
     "iopub.status.idle": "2022-04-24T13:07:45.304660Z",
     "shell.execute_reply": "2022-04-24T13:07:45.303723Z"
    },
    "papermill": {
     "duration": 4.029367,
     "end_time": "2022-04-24T13:07:45.307944",
     "exception": false,
     "start_time": "2022-04-24T13:07:41.278577",
     "status": "completed"
    },
    "tags": []
   },
   "outputs": [
    {
     "data": {
      "text/html": [
       "<div>\n",
       "<style scoped>\n",
       "    .dataframe tbody tr th:only-of-type {\n",
       "        vertical-align: middle;\n",
       "    }\n",
       "\n",
       "    .dataframe tbody tr th {\n",
       "        vertical-align: top;\n",
       "    }\n",
       "\n",
       "    .dataframe thead th {\n",
       "        text-align: right;\n",
       "    }\n",
       "</style>\n",
       "<table border=\"1\" class=\"dataframe\">\n",
       "  <thead>\n",
       "    <tr style=\"text-align: right;\">\n",
       "      <th></th>\n",
       "      <th>0</th>\n",
       "      <th>1</th>\n",
       "      <th>2</th>\n",
       "      <th>3</th>\n",
       "      <th>4</th>\n",
       "      <th>5</th>\n",
       "      <th>6</th>\n",
       "      <th>7</th>\n",
       "      <th>8</th>\n",
       "      <th>9</th>\n",
       "      <th>...</th>\n",
       "      <th>1391</th>\n",
       "      <th>1392</th>\n",
       "      <th>1393</th>\n",
       "      <th>1394</th>\n",
       "      <th>1395</th>\n",
       "      <th>1396</th>\n",
       "      <th>1397</th>\n",
       "      <th>1398</th>\n",
       "      <th>1399</th>\n",
       "      <th>label</th>\n",
       "    </tr>\n",
       "  </thead>\n",
       "  <tbody>\n",
       "    <tr>\n",
       "      <th>0</th>\n",
       "      <td>0</td>\n",
       "      <td>0</td>\n",
       "      <td>0</td>\n",
       "      <td>0</td>\n",
       "      <td>0</td>\n",
       "      <td>0</td>\n",
       "      <td>0</td>\n",
       "      <td>0</td>\n",
       "      <td>0</td>\n",
       "      <td>0</td>\n",
       "      <td>...</td>\n",
       "      <td>0</td>\n",
       "      <td>0</td>\n",
       "      <td>0</td>\n",
       "      <td>0</td>\n",
       "      <td>0</td>\n",
       "      <td>0</td>\n",
       "      <td>0</td>\n",
       "      <td>0</td>\n",
       "      <td>0</td>\n",
       "      <td>10</td>\n",
       "    </tr>\n",
       "    <tr>\n",
       "      <th>1</th>\n",
       "      <td>0</td>\n",
       "      <td>0</td>\n",
       "      <td>0</td>\n",
       "      <td>0</td>\n",
       "      <td>0</td>\n",
       "      <td>0</td>\n",
       "      <td>0</td>\n",
       "      <td>0</td>\n",
       "      <td>0</td>\n",
       "      <td>0</td>\n",
       "      <td>...</td>\n",
       "      <td>0</td>\n",
       "      <td>0</td>\n",
       "      <td>0</td>\n",
       "      <td>0</td>\n",
       "      <td>0</td>\n",
       "      <td>0</td>\n",
       "      <td>0</td>\n",
       "      <td>0</td>\n",
       "      <td>0</td>\n",
       "      <td>10</td>\n",
       "    </tr>\n",
       "    <tr>\n",
       "      <th>2</th>\n",
       "      <td>0</td>\n",
       "      <td>0</td>\n",
       "      <td>0</td>\n",
       "      <td>0</td>\n",
       "      <td>0</td>\n",
       "      <td>0</td>\n",
       "      <td>0</td>\n",
       "      <td>0</td>\n",
       "      <td>0</td>\n",
       "      <td>0</td>\n",
       "      <td>...</td>\n",
       "      <td>0</td>\n",
       "      <td>0</td>\n",
       "      <td>0</td>\n",
       "      <td>0</td>\n",
       "      <td>0</td>\n",
       "      <td>0</td>\n",
       "      <td>0</td>\n",
       "      <td>0</td>\n",
       "      <td>0</td>\n",
       "      <td>10</td>\n",
       "    </tr>\n",
       "    <tr>\n",
       "      <th>3</th>\n",
       "      <td>0</td>\n",
       "      <td>0</td>\n",
       "      <td>0</td>\n",
       "      <td>0</td>\n",
       "      <td>0</td>\n",
       "      <td>0</td>\n",
       "      <td>0</td>\n",
       "      <td>0</td>\n",
       "      <td>0</td>\n",
       "      <td>0</td>\n",
       "      <td>...</td>\n",
       "      <td>0</td>\n",
       "      <td>0</td>\n",
       "      <td>0</td>\n",
       "      <td>0</td>\n",
       "      <td>0</td>\n",
       "      <td>0</td>\n",
       "      <td>0</td>\n",
       "      <td>0</td>\n",
       "      <td>0</td>\n",
       "      <td>10</td>\n",
       "    </tr>\n",
       "    <tr>\n",
       "      <th>4</th>\n",
       "      <td>0</td>\n",
       "      <td>0</td>\n",
       "      <td>0</td>\n",
       "      <td>0</td>\n",
       "      <td>0</td>\n",
       "      <td>0</td>\n",
       "      <td>0</td>\n",
       "      <td>0</td>\n",
       "      <td>0</td>\n",
       "      <td>0</td>\n",
       "      <td>...</td>\n",
       "      <td>0</td>\n",
       "      <td>0</td>\n",
       "      <td>0</td>\n",
       "      <td>0</td>\n",
       "      <td>0</td>\n",
       "      <td>0</td>\n",
       "      <td>0</td>\n",
       "      <td>0</td>\n",
       "      <td>0</td>\n",
       "      <td>10</td>\n",
       "    </tr>\n",
       "  </tbody>\n",
       "</table>\n",
       "<p>5 rows × 1401 columns</p>\n",
       "</div>"
      ],
      "text/plain": [
       "   0  1  2  3  4  5  6  7  8  9  ...  1391  1392  1393  1394  1395  1396  \\\n",
       "0  0  0  0  0  0  0  0  0  0  0  ...     0     0     0     0     0     0   \n",
       "1  0  0  0  0  0  0  0  0  0  0  ...     0     0     0     0     0     0   \n",
       "2  0  0  0  0  0  0  0  0  0  0  ...     0     0     0     0     0     0   \n",
       "3  0  0  0  0  0  0  0  0  0  0  ...     0     0     0     0     0     0   \n",
       "4  0  0  0  0  0  0  0  0  0  0  ...     0     0     0     0     0     0   \n",
       "\n",
       "   1397  1398  1399  label  \n",
       "0     0     0     0     10  \n",
       "1     0     0     0     10  \n",
       "2     0     0     0     10  \n",
       "3     0     0     0     10  \n",
       "4     0     0     0     10  \n",
       "\n",
       "[5 rows x 1401 columns]"
      ]
     },
     "execution_count": 4,
     "metadata": {},
     "output_type": "execute_result"
    }
   ],
   "source": [
    "df = pd.read_csv(\"/kaggle/input/mnsit-10-19/train.csv\")\n",
    "df.head()"
   ]
  },
  {
   "cell_type": "markdown",
   "id": "8d48b0d4",
   "metadata": {
    "papermill": {
     "duration": 0.063467,
     "end_time": "2022-04-24T13:07:45.439828",
     "exception": false,
     "start_time": "2022-04-24T13:07:45.376361",
     "status": "completed"
    },
    "tags": []
   },
   "source": [
    "# **Shuffling train data to avoid bias**"
   ]
  },
  {
   "cell_type": "code",
   "execution_count": 5,
   "id": "7afe8642",
   "metadata": {
    "execution": {
     "iopub.execute_input": "2022-04-24T13:07:45.571185Z",
     "iopub.status.busy": "2022-04-24T13:07:45.570276Z",
     "iopub.status.idle": "2022-04-24T13:07:45.849130Z",
     "shell.execute_reply": "2022-04-24T13:07:45.848082Z"
    },
    "papermill": {
     "duration": 0.347894,
     "end_time": "2022-04-24T13:07:45.851812",
     "exception": false,
     "start_time": "2022-04-24T13:07:45.503918",
     "status": "completed"
    },
    "tags": []
   },
   "outputs": [
    {
     "data": {
      "text/html": [
       "<div>\n",
       "<style scoped>\n",
       "    .dataframe tbody tr th:only-of-type {\n",
       "        vertical-align: middle;\n",
       "    }\n",
       "\n",
       "    .dataframe tbody tr th {\n",
       "        vertical-align: top;\n",
       "    }\n",
       "\n",
       "    .dataframe thead th {\n",
       "        text-align: right;\n",
       "    }\n",
       "</style>\n",
       "<table border=\"1\" class=\"dataframe\">\n",
       "  <thead>\n",
       "    <tr style=\"text-align: right;\">\n",
       "      <th></th>\n",
       "      <th>0</th>\n",
       "      <th>1</th>\n",
       "      <th>2</th>\n",
       "      <th>3</th>\n",
       "      <th>4</th>\n",
       "      <th>5</th>\n",
       "      <th>6</th>\n",
       "      <th>7</th>\n",
       "      <th>8</th>\n",
       "      <th>9</th>\n",
       "      <th>...</th>\n",
       "      <th>1391</th>\n",
       "      <th>1392</th>\n",
       "      <th>1393</th>\n",
       "      <th>1394</th>\n",
       "      <th>1395</th>\n",
       "      <th>1396</th>\n",
       "      <th>1397</th>\n",
       "      <th>1398</th>\n",
       "      <th>1399</th>\n",
       "      <th>label</th>\n",
       "    </tr>\n",
       "  </thead>\n",
       "  <tbody>\n",
       "    <tr>\n",
       "      <th>0</th>\n",
       "      <td>0</td>\n",
       "      <td>0</td>\n",
       "      <td>0</td>\n",
       "      <td>0</td>\n",
       "      <td>0</td>\n",
       "      <td>0</td>\n",
       "      <td>0</td>\n",
       "      <td>0</td>\n",
       "      <td>0</td>\n",
       "      <td>0</td>\n",
       "      <td>...</td>\n",
       "      <td>0</td>\n",
       "      <td>0</td>\n",
       "      <td>0</td>\n",
       "      <td>0</td>\n",
       "      <td>0</td>\n",
       "      <td>0</td>\n",
       "      <td>0</td>\n",
       "      <td>0</td>\n",
       "      <td>0</td>\n",
       "      <td>16</td>\n",
       "    </tr>\n",
       "    <tr>\n",
       "      <th>1</th>\n",
       "      <td>0</td>\n",
       "      <td>0</td>\n",
       "      <td>0</td>\n",
       "      <td>0</td>\n",
       "      <td>0</td>\n",
       "      <td>0</td>\n",
       "      <td>0</td>\n",
       "      <td>0</td>\n",
       "      <td>0</td>\n",
       "      <td>0</td>\n",
       "      <td>...</td>\n",
       "      <td>0</td>\n",
       "      <td>0</td>\n",
       "      <td>0</td>\n",
       "      <td>0</td>\n",
       "      <td>0</td>\n",
       "      <td>0</td>\n",
       "      <td>0</td>\n",
       "      <td>0</td>\n",
       "      <td>0</td>\n",
       "      <td>15</td>\n",
       "    </tr>\n",
       "    <tr>\n",
       "      <th>2</th>\n",
       "      <td>0</td>\n",
       "      <td>0</td>\n",
       "      <td>0</td>\n",
       "      <td>0</td>\n",
       "      <td>0</td>\n",
       "      <td>0</td>\n",
       "      <td>0</td>\n",
       "      <td>0</td>\n",
       "      <td>0</td>\n",
       "      <td>0</td>\n",
       "      <td>...</td>\n",
       "      <td>0</td>\n",
       "      <td>0</td>\n",
       "      <td>0</td>\n",
       "      <td>0</td>\n",
       "      <td>0</td>\n",
       "      <td>0</td>\n",
       "      <td>0</td>\n",
       "      <td>0</td>\n",
       "      <td>0</td>\n",
       "      <td>18</td>\n",
       "    </tr>\n",
       "    <tr>\n",
       "      <th>3</th>\n",
       "      <td>0</td>\n",
       "      <td>0</td>\n",
       "      <td>0</td>\n",
       "      <td>0</td>\n",
       "      <td>0</td>\n",
       "      <td>0</td>\n",
       "      <td>0</td>\n",
       "      <td>0</td>\n",
       "      <td>0</td>\n",
       "      <td>0</td>\n",
       "      <td>...</td>\n",
       "      <td>0</td>\n",
       "      <td>0</td>\n",
       "      <td>0</td>\n",
       "      <td>0</td>\n",
       "      <td>0</td>\n",
       "      <td>0</td>\n",
       "      <td>0</td>\n",
       "      <td>0</td>\n",
       "      <td>0</td>\n",
       "      <td>14</td>\n",
       "    </tr>\n",
       "    <tr>\n",
       "      <th>4</th>\n",
       "      <td>0</td>\n",
       "      <td>0</td>\n",
       "      <td>0</td>\n",
       "      <td>0</td>\n",
       "      <td>0</td>\n",
       "      <td>0</td>\n",
       "      <td>0</td>\n",
       "      <td>0</td>\n",
       "      <td>0</td>\n",
       "      <td>0</td>\n",
       "      <td>...</td>\n",
       "      <td>0</td>\n",
       "      <td>0</td>\n",
       "      <td>0</td>\n",
       "      <td>0</td>\n",
       "      <td>0</td>\n",
       "      <td>0</td>\n",
       "      <td>0</td>\n",
       "      <td>0</td>\n",
       "      <td>0</td>\n",
       "      <td>16</td>\n",
       "    </tr>\n",
       "  </tbody>\n",
       "</table>\n",
       "<p>5 rows × 1401 columns</p>\n",
       "</div>"
      ],
      "text/plain": [
       "   0  1  2  3  4  5  6  7  8  9  ...  1391  1392  1393  1394  1395  1396  \\\n",
       "0  0  0  0  0  0  0  0  0  0  0  ...     0     0     0     0     0     0   \n",
       "1  0  0  0  0  0  0  0  0  0  0  ...     0     0     0     0     0     0   \n",
       "2  0  0  0  0  0  0  0  0  0  0  ...     0     0     0     0     0     0   \n",
       "3  0  0  0  0  0  0  0  0  0  0  ...     0     0     0     0     0     0   \n",
       "4  0  0  0  0  0  0  0  0  0  0  ...     0     0     0     0     0     0   \n",
       "\n",
       "   1397  1398  1399  label  \n",
       "0     0     0     0     16  \n",
       "1     0     0     0     15  \n",
       "2     0     0     0     18  \n",
       "3     0     0     0     14  \n",
       "4     0     0     0     16  \n",
       "\n",
       "[5 rows x 1401 columns]"
      ]
     },
     "execution_count": 5,
     "metadata": {},
     "output_type": "execute_result"
    }
   ],
   "source": [
    "df = df.reindex(np.random.permutation(df.index))\n",
    "df = df.reset_index(drop = True)\n",
    "# df = df.drop(['index','level_0'], axis = 1)\n",
    "df.head()"
   ]
  },
  {
   "cell_type": "markdown",
   "id": "4d8f8831",
   "metadata": {
    "papermill": {
     "duration": 0.067174,
     "end_time": "2022-04-24T13:07:45.984547",
     "exception": false,
     "start_time": "2022-04-24T13:07:45.917373",
     "status": "completed"
    },
    "tags": []
   },
   "source": [
    "# **Extracting X and Y from data**"
   ]
  },
  {
   "cell_type": "code",
   "execution_count": 6,
   "id": "1258f555",
   "metadata": {
    "execution": {
     "iopub.execute_input": "2022-04-24T13:07:46.116609Z",
     "iopub.status.busy": "2022-04-24T13:07:46.116261Z",
     "iopub.status.idle": "2022-04-24T13:07:46.212076Z",
     "shell.execute_reply": "2022-04-24T13:07:46.211029Z"
    },
    "papermill": {
     "duration": 0.164628,
     "end_time": "2022-04-24T13:07:46.214715",
     "exception": false,
     "start_time": "2022-04-24T13:07:46.050087",
     "status": "completed"
    },
    "tags": []
   },
   "outputs": [],
   "source": [
    "X = df.drop(['label'], axis = 1)\n",
    "y = df['label']"
   ]
  },
  {
   "cell_type": "code",
   "execution_count": 7,
   "id": "a073e92f",
   "metadata": {
    "execution": {
     "iopub.execute_input": "2022-04-24T13:07:46.348321Z",
     "iopub.status.busy": "2022-04-24T13:07:46.347504Z",
     "iopub.status.idle": "2022-04-24T13:07:46.355691Z",
     "shell.execute_reply": "2022-04-24T13:07:46.354545Z"
    },
    "papermill": {
     "duration": 0.079195,
     "end_time": "2022-04-24T13:07:46.359675",
     "exception": false,
     "start_time": "2022-04-24T13:07:46.280480",
     "status": "completed"
    },
    "tags": []
   },
   "outputs": [
    {
     "data": {
      "text/plain": [
       "0    16\n",
       "1    15\n",
       "2    18\n",
       "3    14\n",
       "4    16\n",
       "5    16\n",
       "6    12\n",
       "7    15\n",
       "8    19\n",
       "9    11\n",
       "Name: label, dtype: int64"
      ]
     },
     "execution_count": 7,
     "metadata": {},
     "output_type": "execute_result"
    }
   ],
   "source": [
    "y[0:10]"
   ]
  },
  {
   "cell_type": "markdown",
   "id": "f8d63ebe",
   "metadata": {
    "papermill": {
     "duration": 0.064955,
     "end_time": "2022-04-24T13:07:46.490473",
     "exception": false,
     "start_time": "2022-04-24T13:07:46.425518",
     "status": "completed"
    },
    "tags": []
   },
   "source": [
    "# **Reshaping X into (len(X), height, width) to convert 1D array into 2D image array**"
   ]
  },
  {
   "cell_type": "code",
   "execution_count": 8,
   "id": "77ba3034",
   "metadata": {
    "execution": {
     "iopub.execute_input": "2022-04-24T13:07:46.624332Z",
     "iopub.status.busy": "2022-04-24T13:07:46.624029Z",
     "iopub.status.idle": "2022-04-24T13:07:46.628977Z",
     "shell.execute_reply": "2022-04-24T13:07:46.628022Z"
    },
    "papermill": {
     "duration": 0.07463,
     "end_time": "2022-04-24T13:07:46.631292",
     "exception": false,
     "start_time": "2022-04-24T13:07:46.556662",
     "status": "completed"
    },
    "tags": []
   },
   "outputs": [],
   "source": [
    "X = X.to_numpy().reshape(19999,28,50)"
   ]
  },
  {
   "cell_type": "markdown",
   "id": "b53bf5e6",
   "metadata": {
    "papermill": {
     "duration": 0.065733,
     "end_time": "2022-04-24T13:07:46.762200",
     "exception": false,
     "start_time": "2022-04-24T13:07:46.696467",
     "status": "completed"
    },
    "tags": []
   },
   "source": [
    "# **Plotting some sample images**"
   ]
  },
  {
   "cell_type": "code",
   "execution_count": 9,
   "id": "21874d9a",
   "metadata": {
    "execution": {
     "iopub.execute_input": "2022-04-24T13:07:46.892620Z",
     "iopub.status.busy": "2022-04-24T13:07:46.892339Z",
     "iopub.status.idle": "2022-04-24T13:07:48.024257Z",
     "shell.execute_reply": "2022-04-24T13:07:48.023234Z"
    },
    "papermill": {
     "duration": 1.199868,
     "end_time": "2022-04-24T13:07:48.028109",
     "exception": false,
     "start_time": "2022-04-24T13:07:46.828241",
     "status": "completed"
    },
    "tags": []
   },
   "outputs": [
    {
     "data": {
      "image/png": "[encoded data removed]",
      "text/plain": [
       "<Figure size 720x720 with 25 Axes>"
      ]
     },
     "metadata": {},
     "output_type": "display_data"
    },
    {
     "data": {
      "text/plain": [
       "<Figure size 432x288 with 0 Axes>"
      ]
     },
     "metadata": {},
     "output_type": "display_data"
    }
   ],
   "source": [
    "plt.figure(figsize=(10, 10))\n",
    "\n",
    "for i in range(25):\n",
    "    plt.subplot(5, 5, i + 1)\n",
    "    plt.xticks([])\n",
    "    plt.yticks([])\n",
    "    plt.grid(False)\n",
    "    index = np.random.randint(0, len(X))\n",
    "    plt.imshow(X[index], cmap=plt.cm.binary)\n",
    "    label_index = int(y[index])\n",
    "    plt.title(label_index)\n",
    "plt.show()\n",
    "plt.tight_layout()"
   ]
  },
  {
   "cell_type": "markdown",
   "id": "bc724355",
   "metadata": {
    "papermill": {
     "duration": 0.066493,
     "end_time": "2022-04-24T13:07:48.162040",
     "exception": false,
     "start_time": "2022-04-24T13:07:48.095547",
     "status": "completed"
    },
    "tags": []
   },
   "source": [
    "# **Plotting images by removing 1**"
   ]
  },
  {
   "cell_type": "code",
   "execution_count": 10,
   "id": "c0c834bb",
   "metadata": {
    "execution": {
     "iopub.execute_input": "2022-04-24T13:07:48.300748Z",
     "iopub.status.busy": "2022-04-24T13:07:48.300452Z",
     "iopub.status.idle": "2022-04-24T13:07:49.583931Z",
     "shell.execute_reply": "2022-04-24T13:07:49.582967Z"
    },
    "papermill": {
     "duration": 1.355948,
     "end_time": "2022-04-24T13:07:49.586180",
     "exception": false,
     "start_time": "2022-04-24T13:07:48.230232",
     "status": "completed"
    },
    "tags": []
   },
   "outputs": [
    {
     "data": {
      "image/png": "[encoded data removed]",
      "text/plain": [
       "<Figure size 720x720 with 25 Axes>"
      ]
     },
     "metadata": {},
     "output_type": "display_data"
    },
    {
     "data": {
      "text/plain": [
       "<Figure size 432x288 with 0 Axes>"
      ]
     },
     "metadata": {},
     "output_type": "display_data"
    }
   ],
   "source": [
    "plt.figure(figsize=(10, 10))\n",
    "\n",
    "for i in range(25):\n",
    "    plt.subplot(5, 5, i + 1)\n",
    "    plt.xticks([])\n",
    "    plt.yticks([])\n",
    "    plt.grid(False)\n",
    "    index = np.random.randint(0, len(X))\n",
    "    plt.imshow(X[index][:,22:], cmap=plt.cm.binary)\n",
    "    label_index = int(y[index])\n",
    "    plt.title(label_index)\n",
    "plt.show()\n",
    "plt.tight_layout()"
   ]
  },
  {
   "cell_type": "markdown",
   "id": "9a8dfc1e",
   "metadata": {
    "papermill": {
     "duration": 0.06742,
     "end_time": "2022-04-24T13:07:49.723323",
     "exception": false,
     "start_time": "2022-04-24T13:07:49.655903",
     "status": "completed"
    },
    "tags": []
   },
   "source": [
    "# **Here we are removing pixels that contain 1 from all images by removing first 22 columns from image array**"
   ]
  },
  {
   "cell_type": "code",
   "execution_count": 11,
   "id": "d0c8717b",
   "metadata": {
    "execution": {
     "iopub.execute_input": "2022-04-24T13:07:49.862851Z",
     "iopub.status.busy": "2022-04-24T13:07:49.862326Z",
     "iopub.status.idle": "2022-04-24T13:07:49.925934Z",
     "shell.execute_reply": "2022-04-24T13:07:49.924581Z"
    },
    "papermill": {
     "duration": 0.137753,
     "end_time": "2022-04-24T13:07:49.929703",
     "exception": false,
     "start_time": "2022-04-24T13:07:49.791950",
     "status": "completed"
    },
    "tags": []
   },
   "outputs": [
    {
     "name": "stdout",
     "output_type": "stream",
     "text": [
      "X_train Shape : (19999, 28, 28)\n"
     ]
    }
   ],
   "source": [
    "X = X[:,:,22:]\n",
    "X = X.astype(\"float32\")\n",
    "X = X / 255.0\n",
    "print(\"X_train Shape :\",X.shape)"
   ]
  },
  {
   "cell_type": "markdown",
   "id": "5bd36356",
   "metadata": {
    "papermill": {
     "duration": 0.067848,
     "end_time": "2022-04-24T13:07:50.066849",
     "exception": false,
     "start_time": "2022-04-24T13:07:49.999001",
     "status": "completed"
    },
    "tags": []
   },
   "source": [
    "# **Plotting images after removing 1 from all images**"
   ]
  },
  {
   "cell_type": "code",
   "execution_count": 12,
   "id": "9d6d31a0",
   "metadata": {
    "execution": {
     "iopub.execute_input": "2022-04-24T13:07:50.206588Z",
     "iopub.status.busy": "2022-04-24T13:07:50.205424Z",
     "iopub.status.idle": "2022-04-24T13:07:51.299896Z",
     "shell.execute_reply": "2022-04-24T13:07:51.298832Z"
    },
    "papermill": {
     "duration": 1.166647,
     "end_time": "2022-04-24T13:07:51.302386",
     "exception": false,
     "start_time": "2022-04-24T13:07:50.135739",
     "status": "completed"
    },
    "tags": []
   },
   "outputs": [
    {
     "data": {
      "image/png": "[encoded data removed]",
      "text/plain": [
       "<Figure size 720x720 with 25 Axes>"
      ]
     },
     "metadata": {},
     "output_type": "display_data"
    },
    {
     "data": {
      "text/plain": [
       "<Figure size 432x288 with 0 Axes>"
      ]
     },
     "metadata": {},
     "output_type": "display_data"
    }
   ],
   "source": [
    "plt.figure(figsize=(10, 10))\n",
    "\n",
    "for i in range(25):\n",
    "    plt.subplot(5, 5, i + 1)\n",
    "    plt.xticks([])\n",
    "    plt.yticks([])\n",
    "    plt.grid(False)\n",
    "    index = np.random.randint(0, len(X))\n",
    "    plt.imshow(X[index], cmap=plt.cm.binary)\n",
    "    label_index = int(y[index])\n",
    "    plt.title(label_index)\n",
    "plt.show()\n",
    "plt.tight_layout()"
   ]
  },
  {
   "cell_type": "markdown",
   "id": "6a0eead0",
   "metadata": {
    "papermill": {
     "duration": 0.074591,
     "end_time": "2022-04-24T13:07:51.449957",
     "exception": false,
     "start_time": "2022-04-24T13:07:51.375366",
     "status": "completed"
    },
    "tags": []
   },
   "source": [
    "# **Reshaping X and subtracting 10 from y label to make its range from (10 to 19) to (0 to 9)**"
   ]
  },
  {
   "cell_type": "code",
   "execution_count": 13,
   "id": "7f44d6a6",
   "metadata": {
    "execution": {
     "iopub.execute_input": "2022-04-24T13:07:51.595166Z",
     "iopub.status.busy": "2022-04-24T13:07:51.594620Z",
     "iopub.status.idle": "2022-04-24T13:07:51.599715Z",
     "shell.execute_reply": "2022-04-24T13:07:51.598817Z"
    },
    "papermill": {
     "duration": 0.080082,
     "end_time": "2022-04-24T13:07:51.601885",
     "exception": false,
     "start_time": "2022-04-24T13:07:51.521803",
     "status": "completed"
    },
    "tags": []
   },
   "outputs": [],
   "source": [
    "X = X.reshape(-1,28,28,1)\n",
    "y = y - 10"
   ]
  },
  {
   "cell_type": "code",
   "execution_count": 14,
   "id": "17c4c179",
   "metadata": {
    "execution": {
     "iopub.execute_input": "2022-04-24T13:07:51.746508Z",
     "iopub.status.busy": "2022-04-24T13:07:51.746220Z",
     "iopub.status.idle": "2022-04-24T13:07:51.754734Z",
     "shell.execute_reply": "2022-04-24T13:07:51.753832Z"
    },
    "papermill": {
     "duration": 0.083533,
     "end_time": "2022-04-24T13:07:51.757361",
     "exception": false,
     "start_time": "2022-04-24T13:07:51.673828",
     "status": "completed"
    },
    "tags": []
   },
   "outputs": [
    {
     "data": {
      "text/plain": [
       "array([6, 5, 8, 4, 2, 9, 1, 7, 3, 0])"
      ]
     },
     "execution_count": 14,
     "metadata": {},
     "output_type": "execute_result"
    }
   ],
   "source": [
    "pd.Series(y).unique()"
   ]
  },
  {
   "cell_type": "markdown",
   "id": "3d87413d",
   "metadata": {
    "papermill": {
     "duration": 0.076096,
     "end_time": "2022-04-24T13:07:51.908033",
     "exception": false,
     "start_time": "2022-04-24T13:07:51.831937",
     "status": "completed"
    },
    "tags": []
   },
   "source": [
    "# **Categorically encoding y label using keras**"
   ]
  },
  {
   "cell_type": "code",
   "execution_count": 15,
   "id": "64d2e146",
   "metadata": {
    "execution": {
     "iopub.execute_input": "2022-04-24T13:07:52.059665Z",
     "iopub.status.busy": "2022-04-24T13:07:52.058869Z",
     "iopub.status.idle": "2022-04-24T13:07:52.066269Z",
     "shell.execute_reply": "2022-04-24T13:07:52.065249Z"
    },
    "papermill": {
     "duration": 0.086118,
     "end_time": "2022-04-24T13:07:52.069072",
     "exception": false,
     "start_time": "2022-04-24T13:07:51.982954",
     "status": "completed"
    },
    "tags": []
   },
   "outputs": [],
   "source": [
    "from keras.utils.np_utils import to_categorical \n",
    "y = to_categorical(y,num_classes = 10)\n"
   ]
  },
  {
   "cell_type": "markdown",
   "id": "2a3dd74e",
   "metadata": {
    "papermill": {
     "duration": 0.074818,
     "end_time": "2022-04-24T13:07:52.219475",
     "exception": false,
     "start_time": "2022-04-24T13:07:52.144657",
     "status": "completed"
    },
    "tags": []
   },
   "source": [
    "# **Doing train and validation split**"
   ]
  },
  {
   "cell_type": "code",
   "execution_count": 16,
   "id": "e758ed81",
   "metadata": {
    "execution": {
     "iopub.execute_input": "2022-04-24T13:07:52.369179Z",
     "iopub.status.busy": "2022-04-24T13:07:52.368635Z",
     "iopub.status.idle": "2022-04-24T13:07:52.551276Z",
     "shell.execute_reply": "2022-04-24T13:07:52.550109Z"
    },
    "papermill": {
     "duration": 0.262173,
     "end_time": "2022-04-24T13:07:52.555020",
     "exception": false,
     "start_time": "2022-04-24T13:07:52.292847",
     "status": "completed"
    },
    "tags": []
   },
   "outputs": [
    {
     "name": "stdout",
     "output_type": "stream",
     "text": [
      "X_train shape (18999, 28, 28, 1)\n",
      "X_val shape (1000, 28, 28, 1)\n",
      "Y_train shape (18999, 10)\n",
      "Y_val shape (1000, 10)\n"
     ]
    }
   ],
   "source": [
    "from sklearn.model_selection import train_test_split \n",
    "X_train, X_val, Y_train, Y_val = train_test_split(X, y, test_size = 0.05,random_state = 27)\n",
    "print(\"X_train shape\",X_train.shape)\n",
    "print(\"X_val shape\",X_val.shape)\n",
    "print(\"Y_train shape\",Y_train.shape)\n",
    "print(\"Y_val shape\",Y_val.shape)\n"
   ]
  },
  {
   "cell_type": "markdown",
   "id": "b047c31d",
   "metadata": {
    "papermill": {
     "duration": 0.075151,
     "end_time": "2022-04-24T13:07:52.706522",
     "exception": false,
     "start_time": "2022-04-24T13:07:52.631371",
     "status": "completed"
    },
    "tags": []
   },
   "source": [
    "# **Making model to classify images**"
   ]
  },
  {
   "cell_type": "code",
   "execution_count": 17,
   "id": "4b30c6f4",
   "metadata": {
    "execution": {
     "iopub.execute_input": "2022-04-24T13:07:52.856833Z",
     "iopub.status.busy": "2022-04-24T13:07:52.856475Z",
     "iopub.status.idle": "2022-04-24T13:07:55.879218Z",
     "shell.execute_reply": "2022-04-24T13:07:55.878098Z"
    },
    "papermill": {
     "duration": 3.101572,
     "end_time": "2022-04-24T13:07:55.882482",
     "exception": false,
     "start_time": "2022-04-24T13:07:52.780910",
     "status": "completed"
    },
    "tags": []
   },
   "outputs": [
    {
     "name": "stderr",
     "output_type": "stream",
     "text": [
      "2022-04-24 13:07:52.954645: I tensorflow/stream_executor/cuda/cuda_gpu_executor.cc:937] successful NUMA node read from SysFS had negative value (-1), but there must be at least one NUMA node, so returning NUMA node zero\n",
      "2022-04-24 13:07:53.076398: I tensorflow/stream_executor/cuda/cuda_gpu_executor.cc:937] successful NUMA node read from SysFS had negative value (-1), but there must be at least one NUMA node, so returning NUMA node zero\n",
      "2022-04-24 13:07:53.077616: I tensorflow/stream_executor/cuda/cuda_gpu_executor.cc:937] successful NUMA node read from SysFS had negative value (-1), but there must be at least one NUMA node, so returning NUMA node zero\n",
      "2022-04-24 13:07:53.079242: I tensorflow/core/platform/cpu_feature_guard.cc:142] This TensorFlow binary is optimized with oneAPI Deep Neural Network Library (oneDNN) to use the following CPU instructions in performance-critical operations:  AVX2 FMA\n",
      "To enable them in other operations, rebuild TensorFlow with the appropriate compiler flags.\n",
      "2022-04-24 13:07:53.079612: I tensorflow/stream_executor/cuda/cuda_gpu_executor.cc:937] successful NUMA node read from SysFS had negative value (-1), but there must be at least one NUMA node, so returning NUMA node zero\n",
      "2022-04-24 13:07:53.080682: I tensorflow/stream_executor/cuda/cuda_gpu_executor.cc:937] successful NUMA node read from SysFS had negative value (-1), but there must be at least one NUMA node, so returning NUMA node zero\n",
      "2022-04-24 13:07:53.081688: I tensorflow/stream_executor/cuda/cuda_gpu_executor.cc:937] successful NUMA node read from SysFS had negative value (-1), but there must be at least one NUMA node, so returning NUMA node zero\n",
      "2022-04-24 13:07:55.330393: I tensorflow/stream_executor/cuda/cuda_gpu_executor.cc:937] successful NUMA node read from SysFS had negative value (-1), but there must be at least one NUMA node, so returning NUMA node zero\n",
      "2022-04-24 13:07:55.331670: I tensorflow/stream_executor/cuda/cuda_gpu_executor.cc:937] successful NUMA node read from SysFS had negative value (-1), but there must be at least one NUMA node, so returning NUMA node zero\n",
      "2022-04-24 13:07:55.333137: I tensorflow/stream_executor/cuda/cuda_gpu_executor.cc:937] successful NUMA node read from SysFS had negative value (-1), but there must be at least one NUMA node, so returning NUMA node zero\n",
      "2022-04-24 13:07:55.335620: I tensorflow/core/common_runtime/gpu/gpu_device.cc:1510] Created device /job:localhost/replica:0/task:0/device:GPU:0 with 15403 MB memory:  -> device: 0, name: Tesla P100-PCIE-16GB, pci bus id: 0000:00:04.0, compute capability: 6.0\n"
     ]
    }
   ],
   "source": [
    "cnn_model = Sequential()\n",
    "\n",
    "cnn_model.add(Conv2D(filters=512, kernel_size=(3, 3), input_shape=(28,28,1), activation='relu', padding='same'))\n",
    "cnn_model.add(BatchNormalization())\n",
    "cnn_model.add(Conv2D(filters=256, kernel_size=(3, 3), activation='relu', padding='same'))\n",
    "cnn_model.add(BatchNormalization())\n",
    "cnn_model.add(MaxPooling2D(pool_size=(2, 2)))\n",
    "cnn_model.add(Dropout(0.2))\n",
    "\n",
    "cnn_model.add(Conv2D(filters=128, kernel_size=(3, 3), activation='relu', padding='same'))\n",
    "cnn_model.add(BatchNormalization())\n",
    "cnn_model.add(Conv2D(filters=64, kernel_size=(3, 3), activation='relu', padding='same'))\n",
    "cnn_model.add(BatchNormalization())\n",
    "cnn_model.add(MaxPooling2D(pool_size=(2, 2)))\n",
    "cnn_model.add(Dropout(0.2))\n",
    "\n",
    "cnn_model.add(Flatten())\n",
    "cnn_model.add(Dense(units=512, activation='relu'))\n",
    "cnn_model.add(Dropout(0.2))\n",
    "cnn_model.add(Dense(units=128, activation='relu'))\n",
    "cnn_model.add(Dropout(0.2))\n",
    "cnn_model.add(Dense(units=10, activation='softmax'))"
   ]
  },
  {
   "cell_type": "code",
   "execution_count": 18,
   "id": "3634c961",
   "metadata": {
    "execution": {
     "iopub.execute_input": "2022-04-24T13:07:56.043597Z",
     "iopub.status.busy": "2022-04-24T13:07:56.043290Z",
     "iopub.status.idle": "2022-04-24T13:07:56.065187Z",
     "shell.execute_reply": "2022-04-24T13:07:56.063870Z"
    },
    "papermill": {
     "duration": 0.103001,
     "end_time": "2022-04-24T13:07:56.068563",
     "exception": false,
     "start_time": "2022-04-24T13:07:55.965562",
     "status": "completed"
    },
    "tags": []
   },
   "outputs": [
    {
     "name": "stdout",
     "output_type": "stream",
     "text": [
      "Model: \"sequential\"\n",
      "_________________________________________________________________\n",
      "Layer (type)                 Output Shape              Param #   \n",
      "=================================================================\n",
      "conv2d (Conv2D)              (None, 28, 28, 512)       5120      \n",
      "_________________________________________________________________\n",
      "batch_normalization (BatchNo (None, 28, 28, 512)       2048      \n",
      "_________________________________________________________________\n",
      "conv2d_1 (Conv2D)            (None, 28, 28, 256)       1179904   \n",
      "_________________________________________________________________\n",
      "batch_normalization_1 (Batch (None, 28, 28, 256)       1024      \n",
      "_________________________________________________________________\n",
      "max_pooling2d (MaxPooling2D) (None, 14, 14, 256)       0         \n",
      "_________________________________________________________________\n",
      "dropout (Dropout)            (None, 14, 14, 256)       0         \n",
      "_________________________________________________________________\n",
      "conv2d_2 (Conv2D)            (None, 14, 14, 128)       295040    \n",
      "_________________________________________________________________\n",
      "batch_normalization_2 (Batch (None, 14, 14, 128)       512       \n",
      "_________________________________________________________________\n",
      "conv2d_3 (Conv2D)            (None, 14, 14, 64)        73792     \n",
      "_________________________________________________________________\n",
      "batch_normalization_3 (Batch (None, 14, 14, 64)        256       \n",
      "_________________________________________________________________\n",
      "max_pooling2d_1 (MaxPooling2 (None, 7, 7, 64)          0         \n",
      "_________________________________________________________________\n",
      "dropout_1 (Dropout)          (None, 7, 7, 64)          0         \n",
      "_________________________________________________________________\n",
      "flatten (Flatten)            (None, 3136)              0         \n",
      "_________________________________________________________________\n",
      "dense (Dense)                (None, 512)               1606144   \n",
      "_________________________________________________________________\n",
      "dropout_2 (Dropout)          (None, 512)               0         \n",
      "_________________________________________________________________\n",
      "dense_1 (Dense)              (None, 128)               65664     \n",
      "_________________________________________________________________\n",
      "dropout_3 (Dropout)          (None, 128)               0         \n",
      "_________________________________________________________________\n",
      "dense_2 (Dense)              (None, 10)                1290      \n",
      "=================================================================\n",
      "Total params: 3,230,794\n",
      "Trainable params: 3,228,874\n",
      "Non-trainable params: 1,920\n",
      "_________________________________________________________________\n"
     ]
    }
   ],
   "source": [
    "cnn_model.summary()"
   ]
  },
  {
   "cell_type": "code",
   "execution_count": 19,
   "id": "f73514b6",
   "metadata": {
    "execution": {
     "iopub.execute_input": "2022-04-24T13:07:56.224290Z",
     "iopub.status.busy": "2022-04-24T13:07:56.223989Z",
     "iopub.status.idle": "2022-04-24T13:07:57.144025Z",
     "shell.execute_reply": "2022-04-24T13:07:57.142864Z"
    },
    "papermill": {
     "duration": 1.000748,
     "end_time": "2022-04-24T13:07:57.146586",
     "exception": false,
     "start_time": "2022-04-24T13:07:56.145838",
     "status": "completed"
    },
    "tags": []
   },
   "outputs": [
    {
     "data": {
      "image/png": "[encoded data removed]",
      "text/plain": [
       "<IPython.core.display.Image object>"
      ]
     },
     "execution_count": 19,
     "metadata": {},
     "output_type": "execute_result"
    }
   ],
   "source": [
    "import tensorflow as tf\n",
    "tf.keras.utils.plot_model(cnn_model, to_file='model.png')"
   ]
  },
  {
   "cell_type": "markdown",
   "id": "e241524c",
   "metadata": {
    "papermill": {
     "duration": 0.078905,
     "end_time": "2022-04-24T13:07:57.315692",
     "exception": false,
     "start_time": "2022-04-24T13:07:57.236787",
     "status": "completed"
    },
    "tags": []
   },
   "source": [
    "# **Learning rate optimizer callback function**"
   ]
  },
  {
   "cell_type": "code",
   "execution_count": 20,
   "id": "440e41f9",
   "metadata": {
    "execution": {
     "iopub.execute_input": "2022-04-24T13:07:57.476499Z",
     "iopub.status.busy": "2022-04-24T13:07:57.476146Z",
     "iopub.status.idle": "2022-04-24T13:07:57.481834Z",
     "shell.execute_reply": "2022-04-24T13:07:57.480788Z"
    },
    "papermill": {
     "duration": 0.089148,
     "end_time": "2022-04-24T13:07:57.484009",
     "exception": false,
     "start_time": "2022-04-24T13:07:57.394861",
     "status": "completed"
    },
    "tags": []
   },
   "outputs": [],
   "source": [
    "learning_rate_optimizer = ReduceLROnPlateau(monitor = \"val_accuracy\",\n",
    "                                           patience = 2, verbose = 1,\n",
    "                                           factor = 0.5, min_lr = 0.000001)"
   ]
  },
  {
   "cell_type": "markdown",
   "id": "61565489",
   "metadata": {
    "papermill": {
     "duration": 0.079698,
     "end_time": "2022-04-24T13:07:57.642030",
     "exception": false,
     "start_time": "2022-04-24T13:07:57.562332",
     "status": "completed"
    },
    "tags": []
   },
   "source": [
    "# **Compiling model using Adam optimizer and categorical_crossentropy loss**"
   ]
  },
  {
   "cell_type": "code",
   "execution_count": 21,
   "id": "6bbd739f",
   "metadata": {
    "execution": {
     "iopub.execute_input": "2022-04-24T13:07:57.802364Z",
     "iopub.status.busy": "2022-04-24T13:07:57.802076Z",
     "iopub.status.idle": "2022-04-24T13:07:57.821119Z",
     "shell.execute_reply": "2022-04-24T13:07:57.820131Z"
    },
    "papermill": {
     "duration": 0.102742,
     "end_time": "2022-04-24T13:07:57.823660",
     "exception": false,
     "start_time": "2022-04-24T13:07:57.720918",
     "status": "completed"
    },
    "tags": []
   },
   "outputs": [],
   "source": [
    "optimizer = Adam()\n",
    "cnn_model.compile(optimizer = optimizer, loss  =\"categorical_crossentropy\", metrics =[\"accuracy\"])"
   ]
  },
  {
   "cell_type": "markdown",
   "id": "0433b060",
   "metadata": {
    "papermill": {
     "duration": 0.078169,
     "end_time": "2022-04-24T13:07:57.982849",
     "exception": false,
     "start_time": "2022-04-24T13:07:57.904680",
     "status": "completed"
    },
    "tags": []
   },
   "source": [
    "# **Training the model**"
   ]
  },
  {
   "cell_type": "code",
   "execution_count": 22,
   "id": "4d2ee736",
   "metadata": {
    "execution": {
     "iopub.execute_input": "2022-04-24T13:07:58.144358Z",
     "iopub.status.busy": "2022-04-24T13:07:58.143648Z",
     "iopub.status.idle": "2022-04-24T13:15:21.851824Z",
     "shell.execute_reply": "2022-04-24T13:15:21.850899Z"
    },
    "papermill": {
     "duration": 443.791953,
     "end_time": "2022-04-24T13:15:21.854482",
     "exception": false,
     "start_time": "2022-04-24T13:07:58.062529",
     "status": "completed"
    },
    "tags": []
   },
   "outputs": [
    {
     "name": "stderr",
     "output_type": "stream",
     "text": [
      "2022-04-24 13:07:58.654976: I tensorflow/compiler/mlir/mlir_graph_optimization_pass.cc:185] None of the MLIR Optimization Passes are enabled (registered 2)\n"
     ]
    },
    {
     "name": "stdout",
     "output_type": "stream",
     "text": [
      "Epoch 1/50\n"
     ]
    },
    {
     "name": "stderr",
     "output_type": "stream",
     "text": [
      "2022-04-24 13:08:00.974370: I tensorflow/stream_executor/cuda/cuda_dnn.cc:369] Loaded cuDNN version 8005\n"
     ]
    },
    {
     "name": "stdout",
     "output_type": "stream",
     "text": [
      "37/37 [==============================] - 21s 278ms/step - loss: 0.9299 - accuracy: 0.7450 - val_loss: 1.7744 - val_accuracy: 0.3670\n",
      "Epoch 2/50\n",
      "37/37 [==============================] - 8s 204ms/step - loss: 0.1695 - accuracy: 0.9485 - val_loss: 2.2600 - val_accuracy: 0.2310\n",
      "Epoch 3/50\n",
      "37/37 [==============================] - 8s 205ms/step - loss: 0.0978 - accuracy: 0.9704 - val_loss: 2.5536 - val_accuracy: 0.2120\n",
      "\n",
      "Epoch 00003: ReduceLROnPlateau reducing learning rate to 0.0005000000237487257.\n",
      "Epoch 4/50\n",
      "37/37 [==============================] - 8s 204ms/step - loss: 0.0688 - accuracy: 0.9785 - val_loss: 2.5879 - val_accuracy: 0.2280\n",
      "Epoch 5/50\n",
      "37/37 [==============================] - 8s 203ms/step - loss: 0.0543 - accuracy: 0.9832 - val_loss: 2.5173 - val_accuracy: 0.2980\n",
      "\n",
      "Epoch 00005: ReduceLROnPlateau reducing learning rate to 0.0002500000118743628.\n",
      "Epoch 6/50\n",
      "37/37 [==============================] - 8s 206ms/step - loss: 0.0462 - accuracy: 0.9847 - val_loss: 2.2487 - val_accuracy: 0.4120\n",
      "Epoch 7/50\n",
      "37/37 [==============================] - 8s 207ms/step - loss: 0.0393 - accuracy: 0.9872 - val_loss: 2.0003 - val_accuracy: 0.4920\n",
      "Epoch 8/50\n",
      "37/37 [==============================] - 8s 207ms/step - loss: 0.0351 - accuracy: 0.9885 - val_loss: 1.8755 - val_accuracy: 0.4990\n",
      "Epoch 9/50\n",
      "37/37 [==============================] - 8s 205ms/step - loss: 0.0312 - accuracy: 0.9899 - val_loss: 1.6709 - val_accuracy: 0.5420\n",
      "Epoch 10/50\n",
      "37/37 [==============================] - 8s 206ms/step - loss: 0.0309 - accuracy: 0.9900 - val_loss: 1.2958 - val_accuracy: 0.6380\n",
      "Epoch 11/50\n",
      "37/37 [==============================] - 8s 208ms/step - loss: 0.0278 - accuracy: 0.9915 - val_loss: 1.0621 - val_accuracy: 0.6950\n",
      "Epoch 12/50\n",
      "37/37 [==============================] - 8s 208ms/step - loss: 0.0269 - accuracy: 0.9920 - val_loss: 0.7389 - val_accuracy: 0.7820\n",
      "Epoch 13/50\n",
      "37/37 [==============================] - 8s 206ms/step - loss: 0.0231 - accuracy: 0.9928 - val_loss: 0.5163 - val_accuracy: 0.8360\n",
      "Epoch 14/50\n",
      "37/37 [==============================] - 8s 206ms/step - loss: 0.0243 - accuracy: 0.9922 - val_loss: 0.3148 - val_accuracy: 0.8950\n",
      "Epoch 15/50\n",
      "37/37 [==============================] - 8s 207ms/step - loss: 0.0203 - accuracy: 0.9934 - val_loss: 0.1646 - val_accuracy: 0.9440\n",
      "Epoch 16/50\n",
      "37/37 [==============================] - 8s 207ms/step - loss: 0.0175 - accuracy: 0.9943 - val_loss: 0.0942 - val_accuracy: 0.9720\n",
      "Epoch 17/50\n",
      "37/37 [==============================] - 8s 206ms/step - loss: 0.0186 - accuracy: 0.9937 - val_loss: 0.0742 - val_accuracy: 0.9800\n",
      "Epoch 18/50\n",
      "37/37 [==============================] - 8s 207ms/step - loss: 0.0157 - accuracy: 0.9945 - val_loss: 0.0453 - val_accuracy: 0.9840\n",
      "Epoch 19/50\n",
      "37/37 [==============================] - 8s 206ms/step - loss: 0.0159 - accuracy: 0.9948 - val_loss: 0.0425 - val_accuracy: 0.9860\n",
      "Epoch 20/50\n",
      "37/37 [==============================] - 8s 207ms/step - loss: 0.0170 - accuracy: 0.9945 - val_loss: 0.0426 - val_accuracy: 0.9880\n",
      "Epoch 21/50\n",
      "37/37 [==============================] - 8s 206ms/step - loss: 0.0136 - accuracy: 0.9953 - val_loss: 0.0467 - val_accuracy: 0.9880\n",
      "Epoch 22/50\n",
      "37/37 [==============================] - 8s 204ms/step - loss: 0.0134 - accuracy: 0.9955 - val_loss: 0.0326 - val_accuracy: 0.9910\n",
      "Epoch 23/50\n",
      "37/37 [==============================] - 8s 205ms/step - loss: 0.0120 - accuracy: 0.9957 - val_loss: 0.0410 - val_accuracy: 0.9900\n",
      "Epoch 24/50\n",
      "37/37 [==============================] - 8s 205ms/step - loss: 0.0131 - accuracy: 0.9957 - val_loss: 0.0429 - val_accuracy: 0.9900\n",
      "\n",
      "Epoch 00024: ReduceLROnPlateau reducing learning rate to 0.0001250000059371814.\n",
      "Epoch 25/50\n",
      "37/37 [==============================] - 8s 206ms/step - loss: 0.0103 - accuracy: 0.9968 - val_loss: 0.0347 - val_accuracy: 0.9910\n",
      "Epoch 26/50\n",
      "37/37 [==============================] - 8s 206ms/step - loss: 0.0083 - accuracy: 0.9977 - val_loss: 0.0320 - val_accuracy: 0.9930\n",
      "Epoch 27/50\n",
      "37/37 [==============================] - 8s 205ms/step - loss: 0.0062 - accuracy: 0.9983 - val_loss: 0.0340 - val_accuracy: 0.9950\n",
      "Epoch 28/50\n",
      "37/37 [==============================] - 8s 205ms/step - loss: 0.0066 - accuracy: 0.9979 - val_loss: 0.0340 - val_accuracy: 0.9930\n",
      "Epoch 29/50\n",
      "37/37 [==============================] - 8s 206ms/step - loss: 0.0073 - accuracy: 0.9977 - val_loss: 0.0333 - val_accuracy: 0.9920\n",
      "\n",
      "Epoch 00029: ReduceLROnPlateau reducing learning rate to 6.25000029685907e-05.\n",
      "Epoch 30/50\n",
      "37/37 [==============================] - 8s 205ms/step - loss: 0.0065 - accuracy: 0.9979 - val_loss: 0.0347 - val_accuracy: 0.9930\n",
      "Epoch 31/50\n",
      "37/37 [==============================] - 8s 206ms/step - loss: 0.0056 - accuracy: 0.9982 - val_loss: 0.0362 - val_accuracy: 0.9910\n",
      "\n",
      "Epoch 00031: ReduceLROnPlateau reducing learning rate to 3.125000148429535e-05.\n",
      "Epoch 32/50\n",
      "37/37 [==============================] - 8s 205ms/step - loss: 0.0054 - accuracy: 0.9987 - val_loss: 0.0367 - val_accuracy: 0.9890\n",
      "Epoch 33/50\n",
      "37/37 [==============================] - 8s 208ms/step - loss: 0.0051 - accuracy: 0.9985 - val_loss: 0.0360 - val_accuracy: 0.9900\n",
      "\n",
      "Epoch 00033: ReduceLROnPlateau reducing learning rate to 1.5625000742147677e-05.\n",
      "Epoch 34/50\n",
      "37/37 [==============================] - 8s 206ms/step - loss: 0.0047 - accuracy: 0.9982 - val_loss: 0.0361 - val_accuracy: 0.9900\n",
      "Epoch 35/50\n",
      "37/37 [==============================] - 8s 206ms/step - loss: 0.0055 - accuracy: 0.9983 - val_loss: 0.0359 - val_accuracy: 0.9920\n",
      "\n",
      "Epoch 00035: ReduceLROnPlateau reducing learning rate to 7.812500371073838e-06.\n",
      "Epoch 36/50\n",
      "37/37 [==============================] - 8s 205ms/step - loss: 0.0049 - accuracy: 0.9988 - val_loss: 0.0362 - val_accuracy: 0.9900\n",
      "Epoch 37/50\n",
      "37/37 [==============================] - 8s 206ms/step - loss: 0.0041 - accuracy: 0.9988 - val_loss: 0.0359 - val_accuracy: 0.9920\n",
      "\n",
      "Epoch 00037: ReduceLROnPlateau reducing learning rate to 3.906250185536919e-06.\n",
      "Epoch 38/50\n",
      "37/37 [==============================] - 8s 206ms/step - loss: 0.0049 - accuracy: 0.9988 - val_loss: 0.0360 - val_accuracy: 0.9910\n",
      "Epoch 39/50\n",
      "37/37 [==============================] - 8s 206ms/step - loss: 0.0046 - accuracy: 0.9985 - val_loss: 0.0360 - val_accuracy: 0.9910\n",
      "\n",
      "Epoch 00039: ReduceLROnPlateau reducing learning rate to 1.9531250927684596e-06.\n",
      "Epoch 40/50\n",
      "37/37 [==============================] - 8s 205ms/step - loss: 0.0047 - accuracy: 0.9987 - val_loss: 0.0361 - val_accuracy: 0.9910\n",
      "Epoch 41/50\n",
      "37/37 [==============================] - 8s 205ms/step - loss: 0.0044 - accuracy: 0.9985 - val_loss: 0.0362 - val_accuracy: 0.9900\n",
      "\n",
      "Epoch 00041: ReduceLROnPlateau reducing learning rate to 1e-06.\n",
      "Epoch 42/50\n",
      "37/37 [==============================] - 8s 208ms/step - loss: 0.0047 - accuracy: 0.9987 - val_loss: 0.0362 - val_accuracy: 0.9900\n",
      "Epoch 43/50\n",
      "37/37 [==============================] - 8s 205ms/step - loss: 0.0048 - accuracy: 0.9984 - val_loss: 0.0363 - val_accuracy: 0.9900\n",
      "Epoch 44/50\n",
      "37/37 [==============================] - 8s 205ms/step - loss: 0.0043 - accuracy: 0.9989 - val_loss: 0.0362 - val_accuracy: 0.9910\n",
      "Epoch 45/50\n",
      "37/37 [==============================] - 8s 205ms/step - loss: 0.0044 - accuracy: 0.9988 - val_loss: 0.0363 - val_accuracy: 0.9900\n",
      "Epoch 46/50\n",
      "37/37 [==============================] - 8s 207ms/step - loss: 0.0048 - accuracy: 0.9984 - val_loss: 0.0363 - val_accuracy: 0.9910\n",
      "Epoch 47/50\n",
      "37/37 [==============================] - 8s 207ms/step - loss: 0.0043 - accuracy: 0.9988 - val_loss: 0.0363 - val_accuracy: 0.9910\n",
      "Epoch 48/50\n",
      "37/37 [==============================] - 8s 205ms/step - loss: 0.0044 - accuracy: 0.9987 - val_loss: 0.0363 - val_accuracy: 0.9900\n",
      "Epoch 49/50\n",
      "37/37 [==============================] - 8s 204ms/step - loss: 0.0044 - accuracy: 0.9988 - val_loss: 0.0363 - val_accuracy: 0.9900\n",
      "Epoch 50/50\n",
      "37/37 [==============================] - 8s 205ms/step - loss: 0.0052 - accuracy: 0.9986 - val_loss: 0.0363 - val_accuracy: 0.9910\n"
     ]
    }
   ],
   "source": [
    "batch_size = 512\n",
    "epochs = 50\n",
    "history = cnn_model.fit(X_train,Y_train, \n",
    "                                epochs = epochs,\n",
    "                                validation_data = (X_val,Y_val),\n",
    "                                steps_per_epoch = X_train.shape[0]//batch_size,\n",
    "                                callbacks = [learning_rate_optimizer])"
   ]
  },
  {
   "cell_type": "markdown",
   "id": "0cd08996",
   "metadata": {
    "papermill": {
     "duration": 0.85054,
     "end_time": "2022-04-24T13:15:23.579569",
     "exception": false,
     "start_time": "2022-04-24T13:15:22.729029",
     "status": "completed"
    },
    "tags": []
   },
   "source": [
    "# **Plotting graph of loss and accuracy**"
   ]
  },
  {
   "cell_type": "code",
   "execution_count": 23,
   "id": "dd114cc3",
   "metadata": {
    "execution": {
     "iopub.execute_input": "2022-04-24T13:15:25.350263Z",
     "iopub.status.busy": "2022-04-24T13:15:25.349644Z",
     "iopub.status.idle": "2022-04-24T13:15:25.789925Z",
     "shell.execute_reply": "2022-04-24T13:15:25.788833Z"
    },
    "papermill": {
     "duration": 1.308951,
     "end_time": "2022-04-24T13:15:25.792187",
     "exception": false,
     "start_time": "2022-04-24T13:15:24.483236",
     "status": "completed"
    },
    "tags": []
   },
   "outputs": [
    {
     "data": {
      "image/png": "[encoded data removed]",
      "text/plain": [
       "<Figure size 432x288 with 1 Axes>"
      ]
     },
     "metadata": {
      "needs_background": "light"
     },
     "output_type": "display_data"
    },
    {
     "data": {
      "image/png": "[encoded data removed]",
      "text/plain": [
       "<Figure size 432x288 with 1 Axes>"
      ]
     },
     "metadata": {
      "needs_background": "light"
     },
     "output_type": "display_data"
    }
   ],
   "source": [
    "plt.plot(history.history['accuracy'])\n",
    "plt.plot(history.history['val_accuracy'])\n",
    "plt.title('model accuracy')\n",
    "plt.ylabel('accuracy')\n",
    "plt.xlabel('epoch')\n",
    "plt.legend(['Train', 'Validation'], loc='upper left')\n",
    "plt.show()\n",
    "# summarize history for loss\n",
    "plt.plot(history.history['loss'])\n",
    "plt.plot(history.history['val_loss'])\n",
    "plt.title('model loss')\n",
    "plt.ylabel('loss')\n",
    "plt.xlabel('epoch')\n",
    "plt.legend(['Train', 'Validation'], loc='upper left')\n",
    "plt.show()"
   ]
  },
  {
   "cell_type": "markdown",
   "id": "2f0628f5",
   "metadata": {
    "papermill": {
     "duration": 0.868829,
     "end_time": "2022-04-24T13:15:27.551694",
     "exception": false,
     "start_time": "2022-04-24T13:15:26.682865",
     "status": "completed"
    },
    "tags": []
   },
   "source": [
    "# **For test data**"
   ]
  },
  {
   "cell_type": "markdown",
   "id": "d2030fe5",
   "metadata": {
    "papermill": {
     "duration": 0.864593,
     "end_time": "2022-04-24T13:15:29.285536",
     "exception": false,
     "start_time": "2022-04-24T13:15:28.420943",
     "status": "completed"
    },
    "tags": []
   },
   "source": [
    "# **Importing test data**"
   ]
  },
  {
   "cell_type": "code",
   "execution_count": 24,
   "id": "434f7143",
   "metadata": {
    "execution": {
     "iopub.execute_input": "2022-04-24T13:15:31.051224Z",
     "iopub.status.busy": "2022-04-24T13:15:31.050934Z",
     "iopub.status.idle": "2022-04-24T13:15:31.682704Z",
     "shell.execute_reply": "2022-04-24T13:15:31.681755Z"
    },
    "papermill": {
     "duration": 1.521158,
     "end_time": "2022-04-24T13:15:31.685808",
     "exception": false,
     "start_time": "2022-04-24T13:15:30.164650",
     "status": "completed"
    },
    "tags": []
   },
   "outputs": [
    {
     "data": {
      "text/html": [
       "<div>\n",
       "<style scoped>\n",
       "    .dataframe tbody tr th:only-of-type {\n",
       "        vertical-align: middle;\n",
       "    }\n",
       "\n",
       "    .dataframe tbody tr th {\n",
       "        vertical-align: top;\n",
       "    }\n",
       "\n",
       "    .dataframe thead th {\n",
       "        text-align: right;\n",
       "    }\n",
       "</style>\n",
       "<table border=\"1\" class=\"dataframe\">\n",
       "  <thead>\n",
       "    <tr style=\"text-align: right;\">\n",
       "      <th></th>\n",
       "      <th>image_id</th>\n",
       "      <th>0</th>\n",
       "      <th>1</th>\n",
       "      <th>2</th>\n",
       "      <th>3</th>\n",
       "      <th>4</th>\n",
       "      <th>5</th>\n",
       "      <th>6</th>\n",
       "      <th>7</th>\n",
       "      <th>8</th>\n",
       "      <th>...</th>\n",
       "      <th>1390</th>\n",
       "      <th>1391</th>\n",
       "      <th>1392</th>\n",
       "      <th>1393</th>\n",
       "      <th>1394</th>\n",
       "      <th>1395</th>\n",
       "      <th>1396</th>\n",
       "      <th>1397</th>\n",
       "      <th>1398</th>\n",
       "      <th>1399</th>\n",
       "    </tr>\n",
       "  </thead>\n",
       "  <tbody>\n",
       "    <tr>\n",
       "      <th>0</th>\n",
       "      <td>0</td>\n",
       "      <td>0.0</td>\n",
       "      <td>0.0</td>\n",
       "      <td>0.0</td>\n",
       "      <td>0.0</td>\n",
       "      <td>0.0</td>\n",
       "      <td>0.0</td>\n",
       "      <td>0.0</td>\n",
       "      <td>0.0</td>\n",
       "      <td>0.0</td>\n",
       "      <td>...</td>\n",
       "      <td>0.0</td>\n",
       "      <td>0.0</td>\n",
       "      <td>0.0</td>\n",
       "      <td>0.0</td>\n",
       "      <td>0.0</td>\n",
       "      <td>0.0</td>\n",
       "      <td>0.0</td>\n",
       "      <td>0.0</td>\n",
       "      <td>0.0</td>\n",
       "      <td>0.0</td>\n",
       "    </tr>\n",
       "    <tr>\n",
       "      <th>1</th>\n",
       "      <td>1</td>\n",
       "      <td>0.0</td>\n",
       "      <td>0.0</td>\n",
       "      <td>0.0</td>\n",
       "      <td>0.0</td>\n",
       "      <td>0.0</td>\n",
       "      <td>0.0</td>\n",
       "      <td>0.0</td>\n",
       "      <td>0.0</td>\n",
       "      <td>0.0</td>\n",
       "      <td>...</td>\n",
       "      <td>0.0</td>\n",
       "      <td>0.0</td>\n",
       "      <td>0.0</td>\n",
       "      <td>0.0</td>\n",
       "      <td>0.0</td>\n",
       "      <td>0.0</td>\n",
       "      <td>0.0</td>\n",
       "      <td>0.0</td>\n",
       "      <td>0.0</td>\n",
       "      <td>0.0</td>\n",
       "    </tr>\n",
       "    <tr>\n",
       "      <th>2</th>\n",
       "      <td>2</td>\n",
       "      <td>0.0</td>\n",
       "      <td>0.0</td>\n",
       "      <td>0.0</td>\n",
       "      <td>0.0</td>\n",
       "      <td>0.0</td>\n",
       "      <td>0.0</td>\n",
       "      <td>0.0</td>\n",
       "      <td>0.0</td>\n",
       "      <td>0.0</td>\n",
       "      <td>...</td>\n",
       "      <td>0.0</td>\n",
       "      <td>0.0</td>\n",
       "      <td>0.0</td>\n",
       "      <td>0.0</td>\n",
       "      <td>0.0</td>\n",
       "      <td>0.0</td>\n",
       "      <td>0.0</td>\n",
       "      <td>0.0</td>\n",
       "      <td>0.0</td>\n",
       "      <td>0.0</td>\n",
       "    </tr>\n",
       "    <tr>\n",
       "      <th>3</th>\n",
       "      <td>3</td>\n",
       "      <td>0.0</td>\n",
       "      <td>0.0</td>\n",
       "      <td>0.0</td>\n",
       "      <td>0.0</td>\n",
       "      <td>0.0</td>\n",
       "      <td>0.0</td>\n",
       "      <td>0.0</td>\n",
       "      <td>0.0</td>\n",
       "      <td>0.0</td>\n",
       "      <td>...</td>\n",
       "      <td>0.0</td>\n",
       "      <td>0.0</td>\n",
       "      <td>0.0</td>\n",
       "      <td>0.0</td>\n",
       "      <td>0.0</td>\n",
       "      <td>0.0</td>\n",
       "      <td>0.0</td>\n",
       "      <td>0.0</td>\n",
       "      <td>0.0</td>\n",
       "      <td>0.0</td>\n",
       "    </tr>\n",
       "    <tr>\n",
       "      <th>4</th>\n",
       "      <td>4</td>\n",
       "      <td>0.0</td>\n",
       "      <td>0.0</td>\n",
       "      <td>0.0</td>\n",
       "      <td>0.0</td>\n",
       "      <td>0.0</td>\n",
       "      <td>0.0</td>\n",
       "      <td>0.0</td>\n",
       "      <td>0.0</td>\n",
       "      <td>0.0</td>\n",
       "      <td>...</td>\n",
       "      <td>0.0</td>\n",
       "      <td>0.0</td>\n",
       "      <td>0.0</td>\n",
       "      <td>0.0</td>\n",
       "      <td>0.0</td>\n",
       "      <td>0.0</td>\n",
       "      <td>0.0</td>\n",
       "      <td>0.0</td>\n",
       "      <td>0.0</td>\n",
       "      <td>0.0</td>\n",
       "    </tr>\n",
       "  </tbody>\n",
       "</table>\n",
       "<p>5 rows × 1401 columns</p>\n",
       "</div>"
      ],
      "text/plain": [
       "   image_id    0    1    2    3    4    5    6    7    8  ...  1390  1391  \\\n",
       "0         0  0.0  0.0  0.0  0.0  0.0  0.0  0.0  0.0  0.0  ...   0.0   0.0   \n",
       "1         1  0.0  0.0  0.0  0.0  0.0  0.0  0.0  0.0  0.0  ...   0.0   0.0   \n",
       "2         2  0.0  0.0  0.0  0.0  0.0  0.0  0.0  0.0  0.0  ...   0.0   0.0   \n",
       "3         3  0.0  0.0  0.0  0.0  0.0  0.0  0.0  0.0  0.0  ...   0.0   0.0   \n",
       "4         4  0.0  0.0  0.0  0.0  0.0  0.0  0.0  0.0  0.0  ...   0.0   0.0   \n",
       "\n",
       "   1392  1393  1394  1395  1396  1397  1398  1399  \n",
       "0   0.0   0.0   0.0   0.0   0.0   0.0   0.0   0.0  \n",
       "1   0.0   0.0   0.0   0.0   0.0   0.0   0.0   0.0  \n",
       "2   0.0   0.0   0.0   0.0   0.0   0.0   0.0   0.0  \n",
       "3   0.0   0.0   0.0   0.0   0.0   0.0   0.0   0.0  \n",
       "4   0.0   0.0   0.0   0.0   0.0   0.0   0.0   0.0  \n",
       "\n",
       "[5 rows x 1401 columns]"
      ]
     },
     "execution_count": 24,
     "metadata": {},
     "output_type": "execute_result"
    }
   ],
   "source": [
    "df_test = pd.read_csv(\"/kaggle/input/mnsit-10-19/test_data.csv\")\n",
    "df_test.head()"
   ]
  },
  {
   "cell_type": "code",
   "execution_count": 25,
   "id": "80c0febb",
   "metadata": {
    "execution": {
     "iopub.execute_input": "2022-04-24T13:15:33.460505Z",
     "iopub.status.busy": "2022-04-24T13:15:33.460201Z",
     "iopub.status.idle": "2022-04-24T13:15:33.466941Z",
     "shell.execute_reply": "2022-04-24T13:15:33.465971Z"
    },
    "papermill": {
     "duration": 0.87814,
     "end_time": "2022-04-24T13:15:33.470461",
     "exception": false,
     "start_time": "2022-04-24T13:15:32.592321",
     "status": "completed"
    },
    "tags": []
   },
   "outputs": [
    {
     "data": {
      "text/plain": [
       "(976, 1401)"
      ]
     },
     "execution_count": 25,
     "metadata": {},
     "output_type": "execute_result"
    }
   ],
   "source": [
    "df_test.shape"
   ]
  },
  {
   "cell_type": "code",
   "execution_count": 26,
   "id": "33ed7769",
   "metadata": {
    "execution": {
     "iopub.execute_input": "2022-04-24T13:15:35.194862Z",
     "iopub.status.busy": "2022-04-24T13:15:35.194567Z",
     "iopub.status.idle": "2022-04-24T13:15:35.205798Z",
     "shell.execute_reply": "2022-04-24T13:15:35.204791Z"
    },
    "papermill": {
     "duration": 0.879436,
     "end_time": "2022-04-24T13:15:35.208163",
     "exception": false,
     "start_time": "2022-04-24T13:15:34.328727",
     "status": "completed"
    },
    "tags": []
   },
   "outputs": [],
   "source": [
    "X_test = df_test.drop(['image_id'], axis = 1)"
   ]
  },
  {
   "cell_type": "code",
   "execution_count": 27,
   "id": "e0b895bd",
   "metadata": {
    "execution": {
     "iopub.execute_input": "2022-04-24T13:15:36.945548Z",
     "iopub.status.busy": "2022-04-24T13:15:36.945254Z",
     "iopub.status.idle": "2022-04-24T13:15:36.950338Z",
     "shell.execute_reply": "2022-04-24T13:15:36.949179Z"
    },
    "papermill": {
     "duration": 0.877797,
     "end_time": "2022-04-24T13:15:36.952964",
     "exception": false,
     "start_time": "2022-04-24T13:15:36.075167",
     "status": "completed"
    },
    "tags": []
   },
   "outputs": [],
   "source": [
    "X_test = X_test.to_numpy().reshape(976,28,50)"
   ]
  },
  {
   "cell_type": "markdown",
   "id": "d8e31a63",
   "metadata": {
    "papermill": {
     "duration": 0.868739,
     "end_time": "2022-04-24T13:15:38.682266",
     "exception": false,
     "start_time": "2022-04-24T13:15:37.813527",
     "status": "completed"
    },
    "tags": []
   },
   "source": [
    "# **Plotting test images**"
   ]
  },
  {
   "cell_type": "code",
   "execution_count": 28,
   "id": "9564c6e5",
   "metadata": {
    "execution": {
     "iopub.execute_input": "2022-04-24T13:15:41.070441Z",
     "iopub.status.busy": "2022-04-24T13:15:41.070103Z",
     "iopub.status.idle": "2022-04-24T13:15:42.153472Z",
     "shell.execute_reply": "2022-04-24T13:15:42.152425Z"
    },
    "papermill": {
     "duration": 2.604598,
     "end_time": "2022-04-24T13:15:42.161286",
     "exception": false,
     "start_time": "2022-04-24T13:15:39.556688",
     "status": "completed"
    },
    "tags": []
   },
   "outputs": [
    {
     "data": {
      "image/png": "[encoded data removed]",
      "text/plain": [
       "<Figure size 720x720 with 25 Axes>"
      ]
     },
     "metadata": {},
     "output_type": "display_data"
    },
    {
     "data": {
      "text/plain": [
       "<Figure size 432x288 with 0 Axes>"
      ]
     },
     "metadata": {},
     "output_type": "display_data"
    }
   ],
   "source": [
    "plt.figure(figsize=(10, 10))\n",
    "\n",
    "for i in range(25):\n",
    "    plt.subplot(5, 5, i + 1)\n",
    "    plt.xticks([])\n",
    "    plt.yticks([])\n",
    "    plt.grid(False)\n",
    "    index = np.random.randint(0, len(X_test))\n",
    "    plt.imshow(X_test[index], cmap=plt.cm.binary)\n",
    "plt.show()\n",
    "plt.tight_layout()"
   ]
  },
  {
   "cell_type": "markdown",
   "id": "567045b9",
   "metadata": {
    "papermill": {
     "duration": 1.009173,
     "end_time": "2022-04-24T13:15:44.415745",
     "exception": false,
     "start_time": "2022-04-24T13:15:43.406572",
     "status": "completed"
    },
    "tags": []
   },
   "source": [
    "# **Removing pixels of 1 from test images**"
   ]
  },
  {
   "cell_type": "code",
   "execution_count": 29,
   "id": "fb20182a",
   "metadata": {
    "execution": {
     "iopub.execute_input": "2022-04-24T13:15:46.372434Z",
     "iopub.status.busy": "2022-04-24T13:15:46.372112Z",
     "iopub.status.idle": "2022-04-24T13:15:46.380817Z",
     "shell.execute_reply": "2022-04-24T13:15:46.379715Z"
    },
    "papermill": {
     "duration": 0.94182,
     "end_time": "2022-04-24T13:15:46.384112",
     "exception": false,
     "start_time": "2022-04-24T13:15:45.442292",
     "status": "completed"
    },
    "tags": []
   },
   "outputs": [
    {
     "name": "stdout",
     "output_type": "stream",
     "text": [
      "X_train Shape : (976, 28, 28)\n"
     ]
    }
   ],
   "source": [
    "X_test = X_test[:,:,22:]\n",
    "X_test = X_test.astype(\"float32\")\n",
    "X_test = X_test / 255.0\n",
    "print(\"X_train Shape :\",X_test.shape)"
   ]
  },
  {
   "cell_type": "markdown",
   "id": "a492bfff",
   "metadata": {
    "papermill": {
     "duration": 0.887517,
     "end_time": "2022-04-24T13:15:48.140656",
     "exception": false,
     "start_time": "2022-04-24T13:15:47.253139",
     "status": "completed"
    },
    "tags": []
   },
   "source": [
    "# **Plotting images by removing 1**"
   ]
  },
  {
   "cell_type": "code",
   "execution_count": 30,
   "id": "c7f31254",
   "metadata": {
    "execution": {
     "iopub.execute_input": "2022-04-24T13:15:49.884999Z",
     "iopub.status.busy": "2022-04-24T13:15:49.884658Z",
     "iopub.status.idle": "2022-04-24T13:15:51.169900Z",
     "shell.execute_reply": "2022-04-24T13:15:51.168938Z"
    },
    "papermill": {
     "duration": 2.160129,
     "end_time": "2022-04-24T13:15:51.172119",
     "exception": false,
     "start_time": "2022-04-24T13:15:49.011990",
     "status": "completed"
    },
    "tags": []
   },
   "outputs": [
    {
     "data": {
      "image/png": "[encoded data removed]",
      "text/plain": [
       "<Figure size 720x720 with 25 Axes>"
      ]
     },
     "metadata": {},
     "output_type": "display_data"
    },
    {
     "data": {
      "text/plain": [
       "<Figure size 432x288 with 0 Axes>"
      ]
     },
     "metadata": {},
     "output_type": "display_data"
    }
   ],
   "source": [
    "plt.figure(figsize=(10, 10))\n",
    "\n",
    "for i in range(25):\n",
    "    plt.subplot(5, 5, i + 1)\n",
    "    plt.xticks([])\n",
    "    plt.yticks([])\n",
    "    plt.grid(False)\n",
    "    index = np.random.randint(0, len(X_test))\n",
    "    plt.imshow(X_test[index], cmap=plt.cm.binary)\n",
    "#     label_index = int(y[index])\n",
    "#     plt.title(label_index)\n",
    "plt.show()\n",
    "plt.tight_layout()"
   ]
  },
  {
   "cell_type": "code",
   "execution_count": 31,
   "id": "55511d44",
   "metadata": {
    "execution": {
     "iopub.execute_input": "2022-04-24T13:15:52.937470Z",
     "iopub.status.busy": "2022-04-24T13:15:52.937184Z",
     "iopub.status.idle": "2022-04-24T13:15:52.941745Z",
     "shell.execute_reply": "2022-04-24T13:15:52.940833Z"
    },
    "papermill": {
     "duration": 0.887171,
     "end_time": "2022-04-24T13:15:52.944082",
     "exception": false,
     "start_time": "2022-04-24T13:15:52.056911",
     "status": "completed"
    },
    "tags": []
   },
   "outputs": [],
   "source": [
    "X_test = X_test.reshape(-1,28,28,1)\n"
   ]
  },
  {
   "cell_type": "code",
   "execution_count": 32,
   "id": "4d79ad3c",
   "metadata": {
    "execution": {
     "iopub.execute_input": "2022-04-24T13:15:55.009155Z",
     "iopub.status.busy": "2022-04-24T13:15:55.008852Z",
     "iopub.status.idle": "2022-04-24T13:15:56.037820Z",
     "shell.execute_reply": "2022-04-24T13:15:56.036835Z"
    },
    "papermill": {
     "duration": 1.914226,
     "end_time": "2022-04-24T13:15:56.040397",
     "exception": false,
     "start_time": "2022-04-24T13:15:54.126171",
     "status": "completed"
    },
    "tags": []
   },
   "outputs": [
    {
     "data": {
      "image/png": "[encoded data removed]",
      "text/plain": [
       "<Figure size 720x720 with 25 Axes>"
      ]
     },
     "metadata": {},
     "output_type": "display_data"
    },
    {
     "data": {
      "text/plain": [
       "<Figure size 432x288 with 0 Axes>"
      ]
     },
     "metadata": {},
     "output_type": "display_data"
    }
   ],
   "source": [
    "plt.figure(figsize=(10, 10))\n",
    "\n",
    "for i in range(25):\n",
    "    plt.subplot(5, 5, i + 1)\n",
    "    plt.xticks([])\n",
    "    plt.yticks([])\n",
    "    plt.grid(False)\n",
    "    index = np.random.randint(0, len(X_test))\n",
    "    plt.imshow(X_test[index], cmap=plt.cm.binary)\n",
    "\n",
    "plt.show()\n",
    "plt.tight_layout()"
   ]
  },
  {
   "cell_type": "code",
   "execution_count": 33,
   "id": "29b25e58",
   "metadata": {
    "execution": {
     "iopub.execute_input": "2022-04-24T13:15:57.808347Z",
     "iopub.status.busy": "2022-04-24T13:15:57.808047Z",
     "iopub.status.idle": "2022-04-24T13:15:57.814539Z",
     "shell.execute_reply": "2022-04-24T13:15:57.813554Z"
    },
    "papermill": {
     "duration": 0.884183,
     "end_time": "2022-04-24T13:15:57.817069",
     "exception": false,
     "start_time": "2022-04-24T13:15:56.932886",
     "status": "completed"
    },
    "tags": []
   },
   "outputs": [
    {
     "data": {
      "text/plain": [
       "(976, 28, 28, 1)"
      ]
     },
     "execution_count": 33,
     "metadata": {},
     "output_type": "execute_result"
    }
   ],
   "source": [
    "X_test.shape"
   ]
  },
  {
   "cell_type": "markdown",
   "id": "1d00a1a2",
   "metadata": {
    "papermill": {
     "duration": 0.867285,
     "end_time": "2022-04-24T13:15:59.565507",
     "exception": false,
     "start_time": "2022-04-24T13:15:58.698222",
     "status": "completed"
    },
    "tags": []
   },
   "source": [
    "# **Doing prediction on test data**"
   ]
  },
  {
   "cell_type": "code",
   "execution_count": 34,
   "id": "1545c0a3",
   "metadata": {
    "execution": {
     "iopub.execute_input": "2022-04-24T13:16:01.361835Z",
     "iopub.status.busy": "2022-04-24T13:16:01.361534Z",
     "iopub.status.idle": "2022-04-24T13:16:01.868849Z",
     "shell.execute_reply": "2022-04-24T13:16:01.867947Z"
    },
    "papermill": {
     "duration": 1.436879,
     "end_time": "2022-04-24T13:16:01.871320",
     "exception": false,
     "start_time": "2022-04-24T13:16:00.434441",
     "status": "completed"
    },
    "tags": []
   },
   "outputs": [],
   "source": [
    "y_pred = cnn_model.predict(X_test)"
   ]
  },
  {
   "cell_type": "code",
   "execution_count": 35,
   "id": "476ebded",
   "metadata": {
    "execution": {
     "iopub.execute_input": "2022-04-24T13:16:03.616811Z",
     "iopub.status.busy": "2022-04-24T13:16:03.616505Z",
     "iopub.status.idle": "2022-04-24T13:16:03.624299Z",
     "shell.execute_reply": "2022-04-24T13:16:03.623142Z"
    },
    "papermill": {
     "duration": 0.889834,
     "end_time": "2022-04-24T13:16:03.628208",
     "exception": false,
     "start_time": "2022-04-24T13:16:02.738374",
     "status": "completed"
    },
    "tags": []
   },
   "outputs": [
    {
     "data": {
      "text/plain": [
       "array([[1.4921189e-09, 1.6848785e-09, 1.2218647e-08, ..., 1.0000000e+00,\n",
       "        6.4903818e-11, 2.1507722e-08],\n",
       "       [1.0000000e+00, 1.3356741e-08, 5.2382725e-09, ..., 1.3859008e-09,\n",
       "        1.2529006e-09, 2.4604249e-10],\n",
       "       [9.9999464e-01, 2.8029760e-08, 1.2483807e-07, ..., 2.7974240e-10,\n",
       "        4.5128271e-08, 3.3836842e-09],\n",
       "       ...,\n",
       "       [1.8656467e-11, 5.1207694e-11, 1.0000000e+00, ..., 3.5426618e-13,\n",
       "        7.3410739e-10, 2.1629881e-14],\n",
       "       [5.2601916e-07, 1.5753958e-09, 5.5611299e-10, ..., 5.9294430e-10,\n",
       "        4.6805329e-09, 1.8616888e-08],\n",
       "       [1.7823707e-08, 3.1146556e-08, 3.1601144e-09, ..., 3.9964522e-08,\n",
       "        9.5804658e-08, 2.9822817e-07]], dtype=float32)"
      ]
     },
     "execution_count": 35,
     "metadata": {},
     "output_type": "execute_result"
    }
   ],
   "source": [
    "y_pred"
   ]
  },
  {
   "cell_type": "code",
   "execution_count": 36,
   "id": "eab49c24",
   "metadata": {
    "execution": {
     "iopub.execute_input": "2022-04-24T13:16:05.705370Z",
     "iopub.status.busy": "2022-04-24T13:16:05.705077Z",
     "iopub.status.idle": "2022-04-24T13:16:05.713036Z",
     "shell.execute_reply": "2022-04-24T13:16:05.711855Z"
    },
    "papermill": {
     "duration": 0.907632,
     "end_time": "2022-04-24T13:16:05.716401",
     "exception": false,
     "start_time": "2022-04-24T13:16:04.808769",
     "status": "completed"
    },
    "tags": []
   },
   "outputs": [
    {
     "data": {
      "text/plain": [
       "(976, 10)"
      ]
     },
     "execution_count": 36,
     "metadata": {},
     "output_type": "execute_result"
    }
   ],
   "source": [
    "y_pred.shape"
   ]
  },
  {
   "cell_type": "code",
   "execution_count": 37,
   "id": "29495469",
   "metadata": {
    "execution": {
     "iopub.execute_input": "2022-04-24T13:16:07.470139Z",
     "iopub.status.busy": "2022-04-24T13:16:07.468838Z",
     "iopub.status.idle": "2022-04-24T13:16:07.474717Z",
     "shell.execute_reply": "2022-04-24T13:16:07.473786Z"
    },
    "papermill": {
     "duration": 0.883126,
     "end_time": "2022-04-24T13:16:07.476767",
     "exception": false,
     "start_time": "2022-04-24T13:16:06.593641",
     "status": "completed"
    },
    "tags": []
   },
   "outputs": [],
   "source": [
    "y_pred_max = np.argmax(y_pred, axis= 1)"
   ]
  },
  {
   "cell_type": "markdown",
   "id": "d6a163ae",
   "metadata": {
    "papermill": {
     "duration": 0.862501,
     "end_time": "2022-04-24T13:16:09.225685",
     "exception": false,
     "start_time": "2022-04-24T13:16:08.363184",
     "status": "completed"
    },
    "tags": []
   },
   "source": [
    "# **Plotting result on test data**"
   ]
  },
  {
   "cell_type": "code",
   "execution_count": 38,
   "id": "cafd0fcc",
   "metadata": {
    "execution": {
     "iopub.execute_input": "2022-04-24T13:16:10.994852Z",
     "iopub.status.busy": "2022-04-24T13:16:10.994510Z",
     "iopub.status.idle": "2022-04-24T13:16:12.074822Z",
     "shell.execute_reply": "2022-04-24T13:16:12.073795Z"
    },
    "papermill": {
     "duration": 1.974709,
     "end_time": "2022-04-24T13:16:12.077160",
     "exception": false,
     "start_time": "2022-04-24T13:16:10.102451",
     "status": "completed"
    },
    "tags": []
   },
   "outputs": [
    {
     "data": {
      "image/png": "[encoded data removed]",
      "text/plain": [
       "<Figure size 720x720 with 25 Axes>"
      ]
     },
     "metadata": {},
     "output_type": "display_data"
    },
    {
     "data": {
      "text/plain": [
       "<Figure size 432x288 with 0 Axes>"
      ]
     },
     "metadata": {},
     "output_type": "display_data"
    }
   ],
   "source": [
    "plt.figure(figsize=(10, 10))\n",
    "\n",
    "for i in range(25):\n",
    "    plt.subplot(5, 5, i + 1)\n",
    "    plt.xticks([])\n",
    "    plt.yticks([])\n",
    "    plt.grid(False)\n",
    "    index = np.random.randint(0, len(X_test))\n",
    "    plt.imshow(X_test[index], cmap=plt.cm.binary)\n",
    "    label_index = int(y_pred_max[index])\n",
    "    plt.title(label_index)\n",
    "plt.show()\n",
    "plt.tight_layout()"
   ]
  },
  {
   "cell_type": "code",
   "execution_count": 39,
   "id": "3d3281a5",
   "metadata": {
    "execution": {
     "iopub.execute_input": "2022-04-24T13:16:14.488963Z",
     "iopub.status.busy": "2022-04-24T13:16:14.488614Z",
     "iopub.status.idle": "2022-04-24T13:16:14.498483Z",
     "shell.execute_reply": "2022-04-24T13:16:14.497555Z"
    },
    "papermill": {
     "duration": 0.977119,
     "end_time": "2022-04-24T13:16:14.501570",
     "exception": false,
     "start_time": "2022-04-24T13:16:13.524451",
     "status": "completed"
    },
    "tags": []
   },
   "outputs": [
    {
     "data": {
      "text/plain": [
       "array([7, 0, 0, 1, 1, 6, 0, 7, 0, 4, 9, 5, 4, 6, 6, 5, 6, 4, 5, 1, 6, 8,\n",
       "       5, 7, 3, 4, 0, 8, 1, 3, 8, 2, 1, 1, 2, 8, 6, 0, 7, 9, 3, 5, 6, 7,\n",
       "       2, 9, 9, 5, 8, 0, 5, 7, 1, 1, 2, 4, 1, 4, 5, 8, 3, 3, 7, 2, 0, 4,\n",
       "       1, 1, 9, 0, 4, 7, 9, 3, 1, 5, 4, 0, 5, 1, 4, 3, 7, 1, 6, 2, 9, 1,\n",
       "       5, 8, 2, 4, 8, 8, 7, 7, 7, 0, 2, 2, 3, 0, 3, 7, 0, 4, 3, 2, 8, 0,\n",
       "       8, 7, 8, 3, 6, 0, 6, 6, 0, 7, 6, 5, 5, 6, 9, 4, 2, 9, 7, 0, 3, 3,\n",
       "       5, 6, 3, 6, 8, 4, 9, 9, 2, 4, 3, 4, 3, 2, 4, 1, 1, 8, 8, 5, 9, 3,\n",
       "       6, 1, 0, 2, 0, 7, 2, 4, 8, 5, 5, 6, 5, 0, 6, 9, 8, 7, 9, 3, 1, 1,\n",
       "       4, 0, 9, 2, 6, 2, 2, 7, 0, 7, 4, 0, 5, 6, 8, 6, 9, 9, 8, 1, 1, 8,\n",
       "       3, 5, 2, 8, 0, 9, 2, 1, 8, 7, 5, 9, 3, 3, 5, 4, 0, 1, 0, 3, 4, 4,\n",
       "       0, 2, 6, 9, 0, 4, 5, 6, 9, 3, 4, 6, 2, 3, 4, 2, 6, 2, 0, 1, 5, 1,\n",
       "       9, 8, 9, 3, 7, 9, 4, 6, 3, 6, 6, 7, 4, 2, 7, 4, 8, 1, 6, 8, 8, 8,\n",
       "       6, 9, 6, 5, 9, 5, 3, 2, 7, 8, 2, 0, 6, 8, 6, 2, 0, 1, 5, 7, 7, 2,\n",
       "       4, 0, 6, 2, 1, 4, 5, 3, 2, 1, 3, 0, 8, 2, 8, 5, 3, 2, 3, 0, 4, 1,\n",
       "       3, 5, 2, 5, 8, 1, 8, 7, 2, 6, 9, 9, 4, 8, 8, 7, 6, 1, 8, 1, 9, 2,\n",
       "       2, 6, 9, 0, 4, 8, 7, 0, 4, 9, 2, 8, 4, 5, 9, 4, 5, 7, 9, 3, 1, 5,\n",
       "       2, 4, 9, 0, 2, 6, 9, 8, 6, 4, 5, 5, 6, 2, 8, 3, 4, 4, 6, 9, 6, 0,\n",
       "       2, 3, 9, 5, 1, 3, 2, 6, 9, 7, 3, 2, 8, 3, 3, 5, 8, 9, 3, 7, 6, 7,\n",
       "       5, 5, 5, 2, 6, 3, 7, 7, 1, 1, 2, 3, 9, 0, 1, 1, 9, 3, 9, 8, 2, 9,\n",
       "       4, 2, 9, 6, 3, 2, 1, 5, 4, 1, 5, 9, 0, 5, 0, 5, 2, 8, 2, 2, 2, 0,\n",
       "       1, 9, 2, 4, 1, 0, 2, 5, 1, 6, 9, 1, 4, 8, 3, 4, 4, 3, 5, 0, 7, 0,\n",
       "       9, 1, 8, 1, 3, 7, 9, 8, 5, 7, 4, 3, 3, 3, 1, 3, 1, 7, 0, 0, 7, 3,\n",
       "       3, 7, 4, 7, 6, 7, 6, 9, 9, 9, 8, 9, 9, 5, 4, 7, 6, 0, 6, 6, 5, 9,\n",
       "       0, 0, 4, 1, 3, 8, 4, 5, 0, 7, 7, 0, 3, 8, 5, 2, 4, 8, 7, 8, 4, 9,\n",
       "       8, 7, 7, 4, 6, 6, 8, 5, 1, 1, 0, 5, 0, 0, 9, 1, 6, 6, 4, 3, 9, 5,\n",
       "       8, 4, 3, 7, 3, 7, 2, 7, 8, 0, 3, 4, 7, 2, 6, 4, 2, 0, 4, 4, 4, 8,\n",
       "       2, 7, 5, 9, 6, 7, 1, 3, 9, 8, 0, 1, 8, 5, 5, 8, 1, 3, 5, 4, 8, 5,\n",
       "       2, 5, 6, 3, 4, 7, 1, 5, 4, 4, 0, 0, 1, 1, 4, 8, 2, 2, 4, 6, 7, 9,\n",
       "       0, 8, 4, 9, 9, 8, 0, 9, 3, 6, 5, 1, 7, 5, 4, 8, 8, 5, 1, 9, 4, 2,\n",
       "       5, 6, 1, 8, 8, 2, 1, 3, 9, 3, 1, 9, 2, 7, 5, 7, 2, 9, 8, 3, 3, 7,\n",
       "       4, 2, 2, 8, 0, 5, 3, 1, 9, 6, 1, 5, 6, 9, 6, 8, 1, 3, 6, 8, 2, 9,\n",
       "       4, 2, 0, 0, 2, 6, 0, 1, 7, 6, 5, 3, 9, 0, 1, 4, 9, 2, 7, 1, 4, 7,\n",
       "       6, 6, 6, 4, 0, 4, 8, 8, 1, 5, 7, 5, 2, 3, 6, 2, 5, 9, 4, 7, 0, 8,\n",
       "       0, 2, 7, 7, 6, 8, 7, 2, 2, 4, 9, 7, 4, 3, 5, 2, 8, 8, 0, 6, 6, 3,\n",
       "       1, 4, 8, 3, 2, 3, 4, 5, 3, 4, 6, 7, 2, 9, 1, 3, 9, 9, 1, 6, 1, 7,\n",
       "       2, 5, 3, 4, 5, 8, 4, 6, 9, 0, 9, 1, 0, 3, 8, 5, 1, 3, 1, 2, 9, 5,\n",
       "       3, 6, 4, 5, 0, 5, 0, 1, 1, 5, 9, 1, 3, 2, 6, 1, 3, 1, 6, 2, 4, 9,\n",
       "       1, 8, 6, 0, 4, 4, 4, 3, 6, 1, 2, 0, 5, 7, 6, 7, 5, 3, 5, 3, 7, 0,\n",
       "       1, 7, 8, 0, 1, 1, 7, 5, 0, 7, 5, 5, 6, 4, 8, 6, 4, 8, 0, 0, 4, 3,\n",
       "       8, 8, 1, 7, 6, 6, 5, 0, 1, 0, 3, 1, 7, 8, 6, 1, 5, 4, 3, 4, 6, 4,\n",
       "       8, 1, 9, 0, 4, 0, 0, 4, 7, 2, 5, 2, 8, 0, 5, 2, 3, 8, 9, 7, 7, 6,\n",
       "       0, 3, 6, 9, 2, 7, 2, 1, 1, 7, 1, 3, 9, 5, 0, 1, 5, 5, 5, 3, 6, 5,\n",
       "       7, 9, 0, 7, 4, 5, 5, 5, 8, 8, 7, 8, 9, 8, 0, 7, 6, 3, 4, 8, 8, 0,\n",
       "       9, 1, 6, 5, 0, 7, 7, 7, 2, 9, 9, 9, 0, 4, 8, 7, 9, 9, 5, 1, 2, 3,\n",
       "       9, 7, 3, 8, 2, 2, 6, 3])"
      ]
     },
     "execution_count": 39,
     "metadata": {},
     "output_type": "execute_result"
    }
   ],
   "source": [
    "y_pred_max"
   ]
  },
  {
   "cell_type": "markdown",
   "id": "45132919",
   "metadata": {
    "papermill": {
     "duration": 0.936762,
     "end_time": "2022-04-24T13:16:16.573605",
     "exception": false,
     "start_time": "2022-04-24T13:16:15.636843",
     "status": "completed"
    },
    "tags": []
   },
   "source": [
    "# **Adding 10 on final prediction**"
   ]
  },
  {
   "cell_type": "code",
   "execution_count": 40,
   "id": "d6807bcb",
   "metadata": {
    "execution": {
     "iopub.execute_input": "2022-04-24T13:16:18.402708Z",
     "iopub.status.busy": "2022-04-24T13:16:18.402404Z",
     "iopub.status.idle": "2022-04-24T13:16:18.406914Z",
     "shell.execute_reply": "2022-04-24T13:16:18.405959Z"
    },
    "papermill": {
     "duration": 0.948088,
     "end_time": "2022-04-24T13:16:18.409069",
     "exception": false,
     "start_time": "2022-04-24T13:16:17.460981",
     "status": "completed"
    },
    "tags": []
   },
   "outputs": [],
   "source": [
    "y_pred_max = y_pred_max + 10"
   ]
  },
  {
   "cell_type": "markdown",
   "id": "e021d01d",
   "metadata": {
    "papermill": {
     "duration": 0.896284,
     "end_time": "2022-04-24T13:16:20.210784",
     "exception": false,
     "start_time": "2022-04-24T13:16:19.314500",
     "status": "completed"
    },
    "tags": []
   },
   "source": [
    "# **Plotting results**"
   ]
  },
  {
   "cell_type": "code",
   "execution_count": 41,
   "id": "194aea6c",
   "metadata": {
    "execution": {
     "iopub.execute_input": "2022-04-24T13:16:22.018346Z",
     "iopub.status.busy": "2022-04-24T13:16:22.017595Z",
     "iopub.status.idle": "2022-04-24T13:16:23.367419Z",
     "shell.execute_reply": "2022-04-24T13:16:23.365846Z"
    },
    "papermill": {
     "duration": 2.230722,
     "end_time": "2022-04-24T13:16:23.369858",
     "exception": false,
     "start_time": "2022-04-24T13:16:21.139136",
     "status": "completed"
    },
    "tags": []
   },
   "outputs": [
    {
     "data": {
      "image/png": "[encoded data removed]",
      "text/plain": [
       "<Figure size 720x720 with 25 Axes>"
      ]
     },
     "metadata": {},
     "output_type": "display_data"
    },
    {
     "data": {
      "text/plain": [
       "<Figure size 432x288 with 0 Axes>"
      ]
     },
     "metadata": {},
     "output_type": "display_data"
    }
   ],
   "source": [
    "plt.figure(figsize=(10, 10))\n",
    "\n",
    "for i in range(25):\n",
    "    plt.subplot(5, 5, i + 1)\n",
    "    plt.xticks([])\n",
    "    plt.yticks([])\n",
    "    plt.grid(False)\n",
    "    index = np.random.randint(0, len(X_test))\n",
    "    plt.imshow(X_test[index], cmap=plt.cm.binary)\n",
    "    label_index = int(y_pred_max[index])\n",
    "    plt.title(label_index)\n",
    "plt.show()\n",
    "plt.tight_layout()"
   ]
  },
  {
   "cell_type": "code",
   "execution_count": 42,
   "id": "7e63bd57",
   "metadata": {
    "execution": {
     "iopub.execute_input": "2022-04-24T13:16:25.123251Z",
     "iopub.status.busy": "2022-04-24T13:16:25.122957Z",
     "iopub.status.idle": "2022-04-24T13:16:25.132789Z",
     "shell.execute_reply": "2022-04-24T13:16:25.131722Z"
    },
    "papermill": {
     "duration": 0.901058,
     "end_time": "2022-04-24T13:16:25.135781",
     "exception": false,
     "start_time": "2022-04-24T13:16:24.234723",
     "status": "completed"
    },
    "tags": []
   },
   "outputs": [
    {
     "data": {
      "text/plain": [
       "array([17, 10, 10, 11, 11, 16, 10, 17, 10, 14, 19, 15, 14, 16, 16, 15, 16,\n",
       "       14, 15, 11, 16, 18, 15, 17, 13, 14, 10, 18, 11, 13, 18, 12, 11, 11,\n",
       "       12, 18, 16, 10, 17, 19, 13, 15, 16, 17, 12, 19, 19, 15, 18, 10, 15,\n",
       "       17, 11, 11, 12, 14, 11, 14, 15, 18, 13, 13, 17, 12, 10, 14, 11, 11,\n",
       "       19, 10, 14, 17, 19, 13, 11, 15, 14, 10, 15, 11, 14, 13, 17, 11, 16,\n",
       "       12, 19, 11, 15, 18, 12, 14, 18, 18, 17, 17, 17, 10, 12, 12, 13, 10,\n",
       "       13, 17, 10, 14, 13, 12, 18, 10, 18, 17, 18, 13, 16, 10, 16, 16, 10,\n",
       "       17, 16, 15, 15, 16, 19, 14, 12, 19, 17, 10, 13, 13, 15, 16, 13, 16,\n",
       "       18, 14, 19, 19, 12, 14, 13, 14, 13, 12, 14, 11, 11, 18, 18, 15, 19,\n",
       "       13, 16, 11, 10, 12, 10, 17, 12, 14, 18, 15, 15, 16, 15, 10, 16, 19,\n",
       "       18, 17, 19, 13, 11, 11, 14, 10, 19, 12, 16, 12, 12, 17, 10, 17, 14,\n",
       "       10, 15, 16, 18, 16, 19, 19, 18, 11, 11, 18, 13, 15, 12, 18, 10, 19,\n",
       "       12, 11, 18, 17, 15, 19, 13, 13, 15, 14, 10, 11, 10, 13, 14, 14, 10,\n",
       "       12, 16, 19, 10, 14, 15, 16, 19, 13, 14, 16, 12, 13, 14, 12, 16, 12,\n",
       "       10, 11, 15, 11, 19, 18, 19, 13, 17, 19, 14, 16, 13, 16, 16, 17, 14,\n",
       "       12, 17, 14, 18, 11, 16, 18, 18, 18, 16, 19, 16, 15, 19, 15, 13, 12,\n",
       "       17, 18, 12, 10, 16, 18, 16, 12, 10, 11, 15, 17, 17, 12, 14, 10, 16,\n",
       "       12, 11, 14, 15, 13, 12, 11, 13, 10, 18, 12, 18, 15, 13, 12, 13, 10,\n",
       "       14, 11, 13, 15, 12, 15, 18, 11, 18, 17, 12, 16, 19, 19, 14, 18, 18,\n",
       "       17, 16, 11, 18, 11, 19, 12, 12, 16, 19, 10, 14, 18, 17, 10, 14, 19,\n",
       "       12, 18, 14, 15, 19, 14, 15, 17, 19, 13, 11, 15, 12, 14, 19, 10, 12,\n",
       "       16, 19, 18, 16, 14, 15, 15, 16, 12, 18, 13, 14, 14, 16, 19, 16, 10,\n",
       "       12, 13, 19, 15, 11, 13, 12, 16, 19, 17, 13, 12, 18, 13, 13, 15, 18,\n",
       "       19, 13, 17, 16, 17, 15, 15, 15, 12, 16, 13, 17, 17, 11, 11, 12, 13,\n",
       "       19, 10, 11, 11, 19, 13, 19, 18, 12, 19, 14, 12, 19, 16, 13, 12, 11,\n",
       "       15, 14, 11, 15, 19, 10, 15, 10, 15, 12, 18, 12, 12, 12, 10, 11, 19,\n",
       "       12, 14, 11, 10, 12, 15, 11, 16, 19, 11, 14, 18, 13, 14, 14, 13, 15,\n",
       "       10, 17, 10, 19, 11, 18, 11, 13, 17, 19, 18, 15, 17, 14, 13, 13, 13,\n",
       "       11, 13, 11, 17, 10, 10, 17, 13, 13, 17, 14, 17, 16, 17, 16, 19, 19,\n",
       "       19, 18, 19, 19, 15, 14, 17, 16, 10, 16, 16, 15, 19, 10, 10, 14, 11,\n",
       "       13, 18, 14, 15, 10, 17, 17, 10, 13, 18, 15, 12, 14, 18, 17, 18, 14,\n",
       "       19, 18, 17, 17, 14, 16, 16, 18, 15, 11, 11, 10, 15, 10, 10, 19, 11,\n",
       "       16, 16, 14, 13, 19, 15, 18, 14, 13, 17, 13, 17, 12, 17, 18, 10, 13,\n",
       "       14, 17, 12, 16, 14, 12, 10, 14, 14, 14, 18, 12, 17, 15, 19, 16, 17,\n",
       "       11, 13, 19, 18, 10, 11, 18, 15, 15, 18, 11, 13, 15, 14, 18, 15, 12,\n",
       "       15, 16, 13, 14, 17, 11, 15, 14, 14, 10, 10, 11, 11, 14, 18, 12, 12,\n",
       "       14, 16, 17, 19, 10, 18, 14, 19, 19, 18, 10, 19, 13, 16, 15, 11, 17,\n",
       "       15, 14, 18, 18, 15, 11, 19, 14, 12, 15, 16, 11, 18, 18, 12, 11, 13,\n",
       "       19, 13, 11, 19, 12, 17, 15, 17, 12, 19, 18, 13, 13, 17, 14, 12, 12,\n",
       "       18, 10, 15, 13, 11, 19, 16, 11, 15, 16, 19, 16, 18, 11, 13, 16, 18,\n",
       "       12, 19, 14, 12, 10, 10, 12, 16, 10, 11, 17, 16, 15, 13, 19, 10, 11,\n",
       "       14, 19, 12, 17, 11, 14, 17, 16, 16, 16, 14, 10, 14, 18, 18, 11, 15,\n",
       "       17, 15, 12, 13, 16, 12, 15, 19, 14, 17, 10, 18, 10, 12, 17, 17, 16,\n",
       "       18, 17, 12, 12, 14, 19, 17, 14, 13, 15, 12, 18, 18, 10, 16, 16, 13,\n",
       "       11, 14, 18, 13, 12, 13, 14, 15, 13, 14, 16, 17, 12, 19, 11, 13, 19,\n",
       "       19, 11, 16, 11, 17, 12, 15, 13, 14, 15, 18, 14, 16, 19, 10, 19, 11,\n",
       "       10, 13, 18, 15, 11, 13, 11, 12, 19, 15, 13, 16, 14, 15, 10, 15, 10,\n",
       "       11, 11, 15, 19, 11, 13, 12, 16, 11, 13, 11, 16, 12, 14, 19, 11, 18,\n",
       "       16, 10, 14, 14, 14, 13, 16, 11, 12, 10, 15, 17, 16, 17, 15, 13, 15,\n",
       "       13, 17, 10, 11, 17, 18, 10, 11, 11, 17, 15, 10, 17, 15, 15, 16, 14,\n",
       "       18, 16, 14, 18, 10, 10, 14, 13, 18, 18, 11, 17, 16, 16, 15, 10, 11,\n",
       "       10, 13, 11, 17, 18, 16, 11, 15, 14, 13, 14, 16, 14, 18, 11, 19, 10,\n",
       "       14, 10, 10, 14, 17, 12, 15, 12, 18, 10, 15, 12, 13, 18, 19, 17, 17,\n",
       "       16, 10, 13, 16, 19, 12, 17, 12, 11, 11, 17, 11, 13, 19, 15, 10, 11,\n",
       "       15, 15, 15, 13, 16, 15, 17, 19, 10, 17, 14, 15, 15, 15, 18, 18, 17,\n",
       "       18, 19, 18, 10, 17, 16, 13, 14, 18, 18, 10, 19, 11, 16, 15, 10, 17,\n",
       "       17, 17, 12, 19, 19, 19, 10, 14, 18, 17, 19, 19, 15, 11, 12, 13, 19,\n",
       "       17, 13, 18, 12, 12, 16, 13])"
      ]
     },
     "execution_count": 42,
     "metadata": {},
     "output_type": "execute_result"
    }
   ],
   "source": [
    "y_pred_max"
   ]
  },
  {
   "cell_type": "code",
   "execution_count": 43,
   "id": "ccf90583",
   "metadata": {
    "execution": {
     "iopub.execute_input": "2022-04-24T13:16:27.221852Z",
     "iopub.status.busy": "2022-04-24T13:16:27.221514Z",
     "iopub.status.idle": "2022-04-24T13:16:27.228272Z",
     "shell.execute_reply": "2022-04-24T13:16:27.227052Z"
    },
    "papermill": {
     "duration": 1.216304,
     "end_time": "2022-04-24T13:16:27.231781",
     "exception": false,
     "start_time": "2022-04-24T13:16:26.015477",
     "status": "completed"
    },
    "tags": []
   },
   "outputs": [],
   "source": [
    "df_test['label'] = y_pred_max "
   ]
  },
  {
   "cell_type": "code",
   "execution_count": 44,
   "id": "7d11d5f5",
   "metadata": {
    "execution": {
     "iopub.execute_input": "2022-04-24T13:16:29.025093Z",
     "iopub.status.busy": "2022-04-24T13:16:29.024716Z",
     "iopub.status.idle": "2022-04-24T13:16:29.059666Z",
     "shell.execute_reply": "2022-04-24T13:16:29.058737Z"
    },
    "papermill": {
     "duration": 0.94372,
     "end_time": "2022-04-24T13:16:29.061914",
     "exception": false,
     "start_time": "2022-04-24T13:16:28.118194",
     "status": "completed"
    },
    "tags": []
   },
   "outputs": [
    {
     "data": {
      "text/html": [
       "<div>\n",
       "<style scoped>\n",
       "    .dataframe tbody tr th:only-of-type {\n",
       "        vertical-align: middle;\n",
       "    }\n",
       "\n",
       "    .dataframe tbody tr th {\n",
       "        vertical-align: top;\n",
       "    }\n",
       "\n",
       "    .dataframe thead th {\n",
       "        text-align: right;\n",
       "    }\n",
       "</style>\n",
       "<table border=\"1\" class=\"dataframe\">\n",
       "  <thead>\n",
       "    <tr style=\"text-align: right;\">\n",
       "      <th></th>\n",
       "      <th>image_id</th>\n",
       "      <th>0</th>\n",
       "      <th>1</th>\n",
       "      <th>2</th>\n",
       "      <th>3</th>\n",
       "      <th>4</th>\n",
       "      <th>5</th>\n",
       "      <th>6</th>\n",
       "      <th>7</th>\n",
       "      <th>8</th>\n",
       "      <th>...</th>\n",
       "      <th>1391</th>\n",
       "      <th>1392</th>\n",
       "      <th>1393</th>\n",
       "      <th>1394</th>\n",
       "      <th>1395</th>\n",
       "      <th>1396</th>\n",
       "      <th>1397</th>\n",
       "      <th>1398</th>\n",
       "      <th>1399</th>\n",
       "      <th>label</th>\n",
       "    </tr>\n",
       "  </thead>\n",
       "  <tbody>\n",
       "    <tr>\n",
       "      <th>0</th>\n",
       "      <td>0</td>\n",
       "      <td>0.0</td>\n",
       "      <td>0.0</td>\n",
       "      <td>0.0</td>\n",
       "      <td>0.0</td>\n",
       "      <td>0.0</td>\n",
       "      <td>0.0</td>\n",
       "      <td>0.0</td>\n",
       "      <td>0.0</td>\n",
       "      <td>0.0</td>\n",
       "      <td>...</td>\n",
       "      <td>0.0</td>\n",
       "      <td>0.0</td>\n",
       "      <td>0.0</td>\n",
       "      <td>0.0</td>\n",
       "      <td>0.0</td>\n",
       "      <td>0.0</td>\n",
       "      <td>0.0</td>\n",
       "      <td>0.0</td>\n",
       "      <td>0.0</td>\n",
       "      <td>17</td>\n",
       "    </tr>\n",
       "    <tr>\n",
       "      <th>1</th>\n",
       "      <td>1</td>\n",
       "      <td>0.0</td>\n",
       "      <td>0.0</td>\n",
       "      <td>0.0</td>\n",
       "      <td>0.0</td>\n",
       "      <td>0.0</td>\n",
       "      <td>0.0</td>\n",
       "      <td>0.0</td>\n",
       "      <td>0.0</td>\n",
       "      <td>0.0</td>\n",
       "      <td>...</td>\n",
       "      <td>0.0</td>\n",
       "      <td>0.0</td>\n",
       "      <td>0.0</td>\n",
       "      <td>0.0</td>\n",
       "      <td>0.0</td>\n",
       "      <td>0.0</td>\n",
       "      <td>0.0</td>\n",
       "      <td>0.0</td>\n",
       "      <td>0.0</td>\n",
       "      <td>10</td>\n",
       "    </tr>\n",
       "    <tr>\n",
       "      <th>2</th>\n",
       "      <td>2</td>\n",
       "      <td>0.0</td>\n",
       "      <td>0.0</td>\n",
       "      <td>0.0</td>\n",
       "      <td>0.0</td>\n",
       "      <td>0.0</td>\n",
       "      <td>0.0</td>\n",
       "      <td>0.0</td>\n",
       "      <td>0.0</td>\n",
       "      <td>0.0</td>\n",
       "      <td>...</td>\n",
       "      <td>0.0</td>\n",
       "      <td>0.0</td>\n",
       "      <td>0.0</td>\n",
       "      <td>0.0</td>\n",
       "      <td>0.0</td>\n",
       "      <td>0.0</td>\n",
       "      <td>0.0</td>\n",
       "      <td>0.0</td>\n",
       "      <td>0.0</td>\n",
       "      <td>10</td>\n",
       "    </tr>\n",
       "    <tr>\n",
       "      <th>3</th>\n",
       "      <td>3</td>\n",
       "      <td>0.0</td>\n",
       "      <td>0.0</td>\n",
       "      <td>0.0</td>\n",
       "      <td>0.0</td>\n",
       "      <td>0.0</td>\n",
       "      <td>0.0</td>\n",
       "      <td>0.0</td>\n",
       "      <td>0.0</td>\n",
       "      <td>0.0</td>\n",
       "      <td>...</td>\n",
       "      <td>0.0</td>\n",
       "      <td>0.0</td>\n",
       "      <td>0.0</td>\n",
       "      <td>0.0</td>\n",
       "      <td>0.0</td>\n",
       "      <td>0.0</td>\n",
       "      <td>0.0</td>\n",
       "      <td>0.0</td>\n",
       "      <td>0.0</td>\n",
       "      <td>11</td>\n",
       "    </tr>\n",
       "    <tr>\n",
       "      <th>4</th>\n",
       "      <td>4</td>\n",
       "      <td>0.0</td>\n",
       "      <td>0.0</td>\n",
       "      <td>0.0</td>\n",
       "      <td>0.0</td>\n",
       "      <td>0.0</td>\n",
       "      <td>0.0</td>\n",
       "      <td>0.0</td>\n",
       "      <td>0.0</td>\n",
       "      <td>0.0</td>\n",
       "      <td>...</td>\n",
       "      <td>0.0</td>\n",
       "      <td>0.0</td>\n",
       "      <td>0.0</td>\n",
       "      <td>0.0</td>\n",
       "      <td>0.0</td>\n",
       "      <td>0.0</td>\n",
       "      <td>0.0</td>\n",
       "      <td>0.0</td>\n",
       "      <td>0.0</td>\n",
       "      <td>11</td>\n",
       "    </tr>\n",
       "  </tbody>\n",
       "</table>\n",
       "<p>5 rows × 1402 columns</p>\n",
       "</div>"
      ],
      "text/plain": [
       "   image_id    0    1    2    3    4    5    6    7    8  ...  1391  1392  \\\n",
       "0         0  0.0  0.0  0.0  0.0  0.0  0.0  0.0  0.0  0.0  ...   0.0   0.0   \n",
       "1         1  0.0  0.0  0.0  0.0  0.0  0.0  0.0  0.0  0.0  ...   0.0   0.0   \n",
       "2         2  0.0  0.0  0.0  0.0  0.0  0.0  0.0  0.0  0.0  ...   0.0   0.0   \n",
       "3         3  0.0  0.0  0.0  0.0  0.0  0.0  0.0  0.0  0.0  ...   0.0   0.0   \n",
       "4         4  0.0  0.0  0.0  0.0  0.0  0.0  0.0  0.0  0.0  ...   0.0   0.0   \n",
       "\n",
       "   1393  1394  1395  1396  1397  1398  1399  label  \n",
       "0   0.0   0.0   0.0   0.0   0.0   0.0   0.0     17  \n",
       "1   0.0   0.0   0.0   0.0   0.0   0.0   0.0     10  \n",
       "2   0.0   0.0   0.0   0.0   0.0   0.0   0.0     10  \n",
       "3   0.0   0.0   0.0   0.0   0.0   0.0   0.0     11  \n",
       "4   0.0   0.0   0.0   0.0   0.0   0.0   0.0     11  \n",
       "\n",
       "[5 rows x 1402 columns]"
      ]
     },
     "execution_count": 44,
     "metadata": {},
     "output_type": "execute_result"
    }
   ],
   "source": [
    "df_test.head()"
   ]
  },
  {
   "cell_type": "markdown",
   "id": "6eb99e4c",
   "metadata": {
    "papermill": {
     "duration": 0.890831,
     "end_time": "2022-04-24T13:16:30.835164",
     "exception": false,
     "start_time": "2022-04-24T13:16:29.944333",
     "status": "completed"
    },
    "tags": []
   },
   "source": [
    "# **Making dataframe for final prediction**"
   ]
  },
  {
   "cell_type": "code",
   "execution_count": 45,
   "id": "f7e19033",
   "metadata": {
    "execution": {
     "iopub.execute_input": "2022-04-24T13:16:32.620405Z",
     "iopub.status.busy": "2022-04-24T13:16:32.620004Z",
     "iopub.status.idle": "2022-04-24T13:16:32.626733Z",
     "shell.execute_reply": "2022-04-24T13:16:32.625563Z"
    },
    "papermill": {
     "duration": 0.906701,
     "end_time": "2022-04-24T13:16:32.629515",
     "exception": false,
     "start_time": "2022-04-24T13:16:31.722814",
     "status": "completed"
    },
    "tags": []
   },
   "outputs": [],
   "source": [
    "df_final = df_test[['image_id', 'label']]"
   ]
  },
  {
   "cell_type": "code",
   "execution_count": 46,
   "id": "36a4139b",
   "metadata": {
    "execution": {
     "iopub.execute_input": "2022-04-24T13:16:34.453491Z",
     "iopub.status.busy": "2022-04-24T13:16:34.453160Z",
     "iopub.status.idle": "2022-04-24T13:16:34.463765Z",
     "shell.execute_reply": "2022-04-24T13:16:34.462832Z"
    },
    "papermill": {
     "duration": 0.945388,
     "end_time": "2022-04-24T13:16:34.466142",
     "exception": false,
     "start_time": "2022-04-24T13:16:33.520754",
     "status": "completed"
    },
    "tags": []
   },
   "outputs": [
    {
     "data": {
      "text/html": [
       "<div>\n",
       "<style scoped>\n",
       "    .dataframe tbody tr th:only-of-type {\n",
       "        vertical-align: middle;\n",
       "    }\n",
       "\n",
       "    .dataframe tbody tr th {\n",
       "        vertical-align: top;\n",
       "    }\n",
       "\n",
       "    .dataframe thead th {\n",
       "        text-align: right;\n",
       "    }\n",
       "</style>\n",
       "<table border=\"1\" class=\"dataframe\">\n",
       "  <thead>\n",
       "    <tr style=\"text-align: right;\">\n",
       "      <th></th>\n",
       "      <th>image_id</th>\n",
       "      <th>label</th>\n",
       "    </tr>\n",
       "  </thead>\n",
       "  <tbody>\n",
       "    <tr>\n",
       "      <th>0</th>\n",
       "      <td>0</td>\n",
       "      <td>17</td>\n",
       "    </tr>\n",
       "    <tr>\n",
       "      <th>1</th>\n",
       "      <td>1</td>\n",
       "      <td>10</td>\n",
       "    </tr>\n",
       "    <tr>\n",
       "      <th>2</th>\n",
       "      <td>2</td>\n",
       "      <td>10</td>\n",
       "    </tr>\n",
       "    <tr>\n",
       "      <th>3</th>\n",
       "      <td>3</td>\n",
       "      <td>11</td>\n",
       "    </tr>\n",
       "    <tr>\n",
       "      <th>4</th>\n",
       "      <td>4</td>\n",
       "      <td>11</td>\n",
       "    </tr>\n",
       "  </tbody>\n",
       "</table>\n",
       "</div>"
      ],
      "text/plain": [
       "   image_id  label\n",
       "0         0     17\n",
       "1         1     10\n",
       "2         2     10\n",
       "3         3     11\n",
       "4         4     11"
      ]
     },
     "execution_count": 46,
     "metadata": {},
     "output_type": "execute_result"
    }
   ],
   "source": [
    "df_final.head()"
   ]
  },
  {
   "cell_type": "markdown",
   "id": "7b10a0bc",
   "metadata": {
    "papermill": {
     "duration": 0.885787,
     "end_time": "2022-04-24T13:16:36.249870",
     "exception": false,
     "start_time": "2022-04-24T13:16:35.364083",
     "status": "completed"
    },
    "tags": []
   },
   "source": [
    "# **Making CSV for final prediction**"
   ]
  },
  {
   "cell_type": "code",
   "execution_count": 47,
   "id": "1b581892",
   "metadata": {
    "execution": {
     "iopub.execute_input": "2022-04-24T13:16:38.375681Z",
     "iopub.status.busy": "2022-04-24T13:16:38.375354Z",
     "iopub.status.idle": "2022-04-24T13:16:38.385331Z",
     "shell.execute_reply": "2022-04-24T13:16:38.384379Z"
    },
    "papermill": {
     "duration": 1.200282,
     "end_time": "2022-04-24T13:16:38.387997",
     "exception": false,
     "start_time": "2022-04-24T13:16:37.187715",
     "status": "completed"
    },
    "tags": []
   },
   "outputs": [],
   "source": [
    "df_final.to_csv(\"final.csv\", index = False)"
   ]
  },
  {
   "cell_type": "code",
   "execution_count": null,
   "id": "ce07f42c",
   "metadata": {
    "papermill": {
     "duration": 0.881241,
     "end_time": "2022-04-24T13:16:40.155566",
     "exception": false,
     "start_time": "2022-04-24T13:16:39.274325",
     "status": "completed"
    },
    "tags": []
   },
   "outputs": [],
   "source": []
  }
 ],
 "metadata": {
  "kernelspec": {
   "display_name": "Python 3",
   "language": "python",
   "name": "python3"
  },
  "language_info": {
   "codemirror_mode": {
    "name": "ipython",
    "version": 3
   },
   "file_extension": ".py",
   "mimetype": "text/x-python",
   "name": "python",
   "nbconvert_exporter": "python",
   "pygments_lexer": "ipython3",
   "version": "3.8.8"
  },
  "papermill": {
   "default_parameters": {},
   "duration": 561.217773,
   "end_time": "2022-04-24T13:16:44.288886",
   "environment_variables": {},
   "exception": null,
   "input_path": "__notebook__.ipynb",
   "output_path": "__notebook__.ipynb",
   "parameters": {},
   "start_time": "2022-04-24T13:07:23.071113",
   "version": "2.3.4"
  }
 },
 "nbformat": 4,
 "nbformat_minor": 5
}
